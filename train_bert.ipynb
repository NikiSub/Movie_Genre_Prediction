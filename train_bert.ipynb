{
  "nbformat": 4,
  "nbformat_minor": 0,
  "metadata": {
    "kernelspec": {
      "display_name": "PyCharm (MultiModal-Movie-Genre-Analysis)",
      "language": "python",
      "name": "pycharm-90cbde0b"
    },
    "language_info": {
      "codemirror_mode": {
        "name": "ipython",
        "version": 3
      },
      "file_extension": ".py",
      "mimetype": "text/x-python",
      "name": "python",
      "nbconvert_exporter": "python",
      "pygments_lexer": "ipython3",
      "version": "3.7.7"
    },
    "colab": {
      "name": "train_bert.ipynb",
      "provenance": [],
      "collapsed_sections": [],
      "toc_visible": true
    },
    "accelerator": "GPU"
  },
  "cells": [
    {
      "cell_type": "markdown",
      "metadata": {
        "id": "Sc58E3LKbQS7"
      },
      "source": [
        "#### Get MM-IMDB Database - Extract to data folder"
      ]
    },
    {
      "cell_type": "code",
      "metadata": {
        "id": "qza7ybBvbQS8",
        "colab": {
          "base_uri": "https://localhost:8080/"
        },
        "outputId": "694e6b33-7a91-46a7-98b1-1c83006c5d61"
      },
      "source": [
        "!wget -nc http://www.cs.virginia.edu/~vicente/vislang/mmimdb-256.tar.gz\n",
        "!tar xf mmimdb-256.tar.gz -C ./data/mmimdb-256/"
      ],
      "execution_count": 1,
      "outputs": [
        {
          "output_type": "stream",
          "text": [
            "File ‘mmimdb-256.tar.gz’ already there; not retrieving.\n",
            "\n"
          ],
          "name": "stdout"
        }
      ]
    },
    {
      "cell_type": "code",
      "metadata": {
        "colab": {
          "base_uri": "https://localhost:8080/"
        },
        "id": "teerkk8bUjLt",
        "outputId": "85d31d7a-4422-497f-c4d6-3afe6e104e96"
      },
      "source": [
        "pip -q install -r requirements.txt"
      ],
      "execution_count": 2,
      "outputs": [
        {
          "output_type": "stream",
          "text": [
            "^C\n"
          ],
          "name": "stdout"
        }
      ]
    },
    {
      "cell_type": "code",
      "metadata": {
        "id": "A8FSZ5suko2W"
      },
      "source": [
        "!pip install livelossplot --quiet\n",
        "!pip -q install transformers"
      ],
      "execution_count": 2,
      "outputs": []
    },
    {
      "cell_type": "code",
      "metadata": {
        "id": "HgOK-jR1l4Nd"
      },
      "source": [
        "from zipfile import ZipFile \n",
        "\n",
        "\n",
        "with ZipFile('deep-text-recognition-benchmark.zip', 'r') as zipObj:\n",
        "   # Extract all the contents of zip file in current directory\n",
        "   zipObj.extractall()\n",
        "\n",
        "from zipfile import ZipFile \n",
        "\n",
        "\n",
        "with ZipFile('CRAFT-pytorch.zip', 'r') as zipObj:\n",
        "   # Extract all the contents of zip file in current directory\n",
        "   zipObj.extractall()"
      ],
      "execution_count": 10,
      "outputs": []
    },
    {
      "cell_type": "code",
      "metadata": {
        "id": "icPeXw2NmV5F"
      },
      "source": [
        "from transformers import BertForSequenceClassification"
      ],
      "execution_count": 3,
      "outputs": []
    },
    {
      "cell_type": "code",
      "metadata": {
        "id": "7jofJRMzbQS8"
      },
      "source": [
        "import torch, os, json\n",
        "import matplotlib.pyplot as plt\n",
        "from transformers import BertTokenizer\n",
        "from PIL import Image\n",
        "from text_extractor import TextExtractor\n",
        "\n",
        "class MovieDataset(torch.utils.data.Dataset):\n",
        "    def __init__(self, folder = 'data/mmimdb-256/dataset-resized-256max', split = 'dev',\n",
        "                 image_transform = None):\n",
        "        self.json_dir = os.path.join(folder, split, 'metadata')\n",
        "        self.image_dir = os.path.join(folder, split, 'images')\n",
        "        self.image_transform = image_transform\n",
        "        self.tokenizer = BertTokenizer.from_pretrained('bert-base-uncased')\n",
        "        self.text_extractor = TextExtractor(folder+\"/\"+split+\"/images/\",split+\"_\"+\"dataset_text_extract_output.txt\",split)\n",
        "        #insantiate a model to extract text\n",
        "\n",
        "        # Category definitions of movies.\n",
        "        self.categories = ['Action', 'Adult', 'Adventure', 'Animation', 'Biography', \n",
        "                           'Comedy', 'Crime', 'Documentary', 'Drama', \n",
        "                           'Family', 'Fantasy', 'Film-Noir', 'History', \n",
        "                           'Horror', 'Music', 'Musical', 'Mystery', 'News', \n",
        "                           'Reality-TV', 'Romance', 'Sci-Fi', 'Short', \n",
        "                           'Sport', 'Talk-Show', 'Thriller', 'War', 'Western']\n",
        "        self.categories2ids = {category: id for (id, category) \n",
        "                               in enumerate(self.categories)}\n",
        "\n",
        "        # Load JSON files.\n",
        "        #print('Loading %s ...' % self.json_dir, end = '')\n",
        "        print(\"extracting text and getting metadata\")\n",
        "        self.fdir = os.listdir(self.json_dir)\n",
        "        self.metadata = [(fname[:-5], json.load(open(os.path.join(self.json_dir, fname)))) \n",
        "                     for fname in sorted(self.fdir) if not fname.startswith('.')]\n",
        "        print(len(self.metadata))\n",
        "        self.text_extractor.extract_text()\n",
        "        \n",
        "        print(' finished')\n",
        "\n",
        "        # Pre-tokenizing all sentences.\n",
        "        \n",
        "        print('Tokenizing...', end = '')\n",
        "        self.tokenized_plots = list()\n",
        "        for i in range(0, len(self.metadata)):\n",
        "            text = self.text_extractor.get_item(i) #self.metadata[i][1]['plot'][0]\n",
        "            encoded_text = self.tokenizer.encode_plus(\n",
        "                text, add_special_tokens = True, truncation = True, \n",
        "                max_length = 256, padding = 'max_length',\n",
        "                return_attention_mask = True,\n",
        "                return_tensors = 'pt')\n",
        "            self.tokenized_plots.append(encoded_text)\n",
        "        print(' finished')\n",
        "        \n",
        "            \n",
        "    def __getitem__(self, index: int):\n",
        "        # Load images on the fly.\n",
        "        filename, movie_data = self.metadata[index]\n",
        "        img_path = os.path.join(self.image_dir, filename + '.jpeg')\n",
        "        image = Image.open(img_path).convert('RGB')\n",
        "        #TODO: ADD cacheing\n",
        "        text = self.tokenized_plots[index]['input_ids'][0]\n",
        "        text_mask = self.tokenized_plots[index]['attention_mask'][0]\n",
        "        genres = movie_data['genres']\n",
        "\n",
        "        if self.image_transform: image = self.image_transform(image)\n",
        "\n",
        "        # Encode labels in a binary vector.\n",
        "        label_vector = torch.zeros((len(self.categories)))\n",
        "        label_ids = [self.categories2ids[cat] for cat in genres]\n",
        "        label_vector[label_ids] = 1\n",
        "\n",
        "        return image, text, text_mask, label_vector\n",
        "\n",
        "    def load_image_only(self, index: int):\n",
        "        filename, movie_data = self.metadata[index]\n",
        "        img_path = os.path.join(self.image_dir, filename + '.jpeg')\n",
        "        image = Image.open(img_path).convert('RGB')\n",
        "        return image\n",
        "\n",
        "\n",
        "    def __len__(self):\n",
        "        return len(self.metadata)"
      ],
      "execution_count": 4,
      "outputs": []
    },
    {
      "cell_type": "code",
      "metadata": {
        "id": "hPWeRgqrbQS9",
        "colab": {
          "base_uri": "https://localhost:8080/",
          "height": 391
        },
        "outputId": "5b50b0cf-1856-4a8f-d7f3-27ddd7acce04"
      },
      "source": [
        "val_data = MovieDataset(split = 'dev_n')\n",
        "print('Data size: %d samples' % len(val_data))\n",
        "\n",
        "sample_movieID = 0\n",
        "img, text, text_mask, labels = val_data[sample_movieID]\n",
        "#print(text)\n",
        "#print(text_mask)\n",
        "\n",
        "print(val_data.tokenizer.convert_ids_to_tokens(text.numpy().tolist()))\n",
        "#print(val_data.tokenizer.convert_ids_to_tokens([100,0,1,2,3,4,5,6,7,8,9,10,101,102,103,104,105,106,107]))\n",
        "\n",
        "#labels = labels.numpy()\n",
        "# Is there a better way to do this?\n",
        "#print([val_data.categories[ind] for ind, val in enumerate(labels == 1) if val == 1])\n",
        "\n",
        "plt.imshow(img)\n",
        "plt.show()"
      ],
      "execution_count": 5,
      "outputs": [
        {
          "output_type": "stream",
          "text": [
            "extracting text and getting metadata\n",
            "1\n",
            " finished\n",
            "Tokenizing... finished\n",
            "Data size: 1 samples\n",
            "['[CLS]', 'james', 'a', 'white', '[SEP]', 'ella', 'lola', '##s', '[SEP]', 'ala', 'tri', '##lby', '[SEP]', '1898', '[SEP]', '[PAD]', '[PAD]', '[PAD]', '[PAD]', '[PAD]', '[PAD]', '[PAD]', '[PAD]', '[PAD]', '[PAD]', '[PAD]', '[PAD]', '[PAD]', '[PAD]', '[PAD]', '[PAD]', '[PAD]', '[PAD]', '[PAD]', '[PAD]', '[PAD]', '[PAD]', '[PAD]', '[PAD]', '[PAD]', '[PAD]', '[PAD]', '[PAD]', '[PAD]', '[PAD]', '[PAD]', '[PAD]', '[PAD]', '[PAD]', '[PAD]', '[PAD]', '[PAD]', '[PAD]', '[PAD]', '[PAD]', '[PAD]', '[PAD]', '[PAD]', '[PAD]', '[PAD]', '[PAD]', '[PAD]', '[PAD]', '[PAD]', '[PAD]', '[PAD]', '[PAD]', '[PAD]', '[PAD]', '[PAD]', '[PAD]', '[PAD]', '[PAD]', '[PAD]', '[PAD]', '[PAD]', '[PAD]', '[PAD]', '[PAD]', '[PAD]', '[PAD]', '[PAD]', '[PAD]', '[PAD]', '[PAD]', '[PAD]', '[PAD]', '[PAD]', '[PAD]', '[PAD]', '[PAD]', '[PAD]', '[PAD]', '[PAD]', '[PAD]', '[PAD]', '[PAD]', '[PAD]', '[PAD]', '[PAD]', '[PAD]', '[PAD]', '[PAD]', '[PAD]', '[PAD]', '[PAD]', '[PAD]', '[PAD]', '[PAD]', '[PAD]', '[PAD]', '[PAD]', '[PAD]', '[PAD]', '[PAD]', '[PAD]', '[PAD]', '[PAD]', '[PAD]', '[PAD]', '[PAD]', '[PAD]', '[PAD]', '[PAD]', '[PAD]', '[PAD]', '[PAD]', '[PAD]', '[PAD]', '[PAD]', '[PAD]', '[PAD]', '[PAD]', '[PAD]', '[PAD]', '[PAD]', '[PAD]', '[PAD]', '[PAD]', '[PAD]', '[PAD]', '[PAD]', '[PAD]', '[PAD]', '[PAD]', '[PAD]', '[PAD]', '[PAD]', '[PAD]', '[PAD]', '[PAD]', '[PAD]', '[PAD]', '[PAD]', '[PAD]', '[PAD]', '[PAD]', '[PAD]', '[PAD]', '[PAD]', '[PAD]', '[PAD]', '[PAD]', '[PAD]', '[PAD]', '[PAD]', '[PAD]', '[PAD]', '[PAD]', '[PAD]', '[PAD]', '[PAD]', '[PAD]', '[PAD]', '[PAD]', '[PAD]', '[PAD]', '[PAD]', '[PAD]', '[PAD]', '[PAD]', '[PAD]', '[PAD]', '[PAD]', '[PAD]', '[PAD]', '[PAD]', '[PAD]', '[PAD]', '[PAD]', '[PAD]', '[PAD]', '[PAD]', '[PAD]', '[PAD]', '[PAD]', '[PAD]', '[PAD]', '[PAD]', '[PAD]', '[PAD]', '[PAD]', '[PAD]', '[PAD]', '[PAD]', '[PAD]', '[PAD]', '[PAD]', '[PAD]', '[PAD]', '[PAD]', '[PAD]', '[PAD]', '[PAD]', '[PAD]', '[PAD]', '[PAD]', '[PAD]', '[PAD]', '[PAD]', '[PAD]', '[PAD]', '[PAD]', '[PAD]', '[PAD]', '[PAD]', '[PAD]', '[PAD]', '[PAD]', '[PAD]', '[PAD]', '[PAD]', '[PAD]', '[PAD]', '[PAD]', '[PAD]', '[PAD]', '[PAD]', '[PAD]', '[PAD]', '[PAD]', '[PAD]', '[PAD]', '[PAD]', '[PAD]', '[PAD]', '[PAD]', '[PAD]', '[PAD]', '[PAD]', '[PAD]', '[PAD]', '[PAD]', '[PAD]', '[PAD]', '[PAD]']\n"
          ],
          "name": "stdout"
        },
        {
          "output_type": "display_data",
          "data": {
            "image/png": "[encoded data removed]",
            "text/plain": [
              "<Figure size 432x288 with 1 Axes>"
            ]
          },
          "metadata": {
            "tags": [],
            "needs_background": "light"
          }
        }
      ]
    },
    {
      "cell_type": "code",
      "metadata": {
        "id": "A7iDeGCYbQS9",
        "colab": {
          "base_uri": "https://localhost:8080/"
        },
        "outputId": "715aecb2-461c-400b-ca1f-3f6af9267ed9"
      },
      "source": [
        "# Let's setup the data loaders and preprocessing.\n",
        "import torchvision.transforms as transforms\n",
        "\n",
        "# Batch size is a liming factor on constrained resources.\n",
        "# only GPUs with a large memory can hold large batches.\n",
        "batch_size = 10\n",
        "\n",
        "image_transform = transforms.Compose([\n",
        "        transforms.Resize(256),\n",
        "        transforms.CenterCrop((224, 224)),\n",
        "        transforms.ToTensor(),\n",
        "        transforms.Normalize(mean=[0.485, 0.456, 0.406],\n",
        "                             std=[0.229, 0.224, 0.225])])\n",
        "\n",
        "trainset = MovieDataset(split = 'train', image_transform = image_transform)\n",
        "valset = MovieDataset(split = 'dev', image_transform = image_transform)\n",
        "\n",
        "train_loader = torch.utils.data.DataLoader(trainset, \n",
        "                                           batch_size = batch_size, \n",
        "                                           shuffle = True, \n",
        "                                           pin_memory = True,\n",
        "                                           num_workers = 4)\n",
        "val_loader = torch.utils.data.DataLoader(valset, \n",
        "                                         batch_size = batch_size, \n",
        "                                         shuffle = False)"
      ],
      "execution_count": 6,
      "outputs": [
        {
          "output_type": "stream",
          "text": [
            "extracting text and getting metadata\n",
            "15552\n",
            " finished\n",
            "Tokenizing... finished\n",
            "extracting text and getting metadata\n",
            "2608\n",
            " finished\n",
            "Tokenizing... finished\n"
          ],
          "name": "stdout"
        }
      ]
    },
    {
      "cell_type": "code",
      "metadata": {
        "colab": {
          "base_uri": "https://localhost:8080/"
        },
        "id": "Iw0ZEmtivDEK",
        "outputId": "edbeb575-8572-4427-f87e-2de5ab35578c"
      },
      "source": [
        "_, (imgs, texts, text_masks, labels) = next(enumerate(val_loader))\n",
        "print(imgs.shape, texts.shape, text_masks.shape, labels.shape)"
      ],
      "execution_count": 7,
      "outputs": [
        {
          "output_type": "stream",
          "text": [
            "torch.Size([10, 3, 224, 224]) torch.Size([10, 256]) torch.Size([10, 256]) torch.Size([10, 27])\n"
          ],
          "name": "stdout"
        }
      ]
    },
    {
      "cell_type": "code",
      "metadata": {
        "id": "0WGYgNCAbQS9",
        "colab": {
          "base_uri": "https://localhost:8080/"
        },
        "outputId": "fb19767c-bdf4-4b9e-e3d2-89462b3a9c51"
      },
      "source": [
        "# Loading BERT...\n",
        "num_categories = len(trainset.categories)\n",
        "model = BertForSequenceClassification.from_pretrained('bert-base-uncased', \n",
        "    num_labels = num_categories,  output_attentions = False, \n",
        "    output_hidden_states = False)\n",
        "model.eval()\n",
        "# Let's run a quick test on this model on the CPU.\n",
        "predictions = model(texts, text_masks).logits\n",
        "print(predictions.shape)\n",
        "\n",
        "# Tell pytorch to run this model on the GPU.\n",
        "model.cuda();"
      ],
      "execution_count": 9,
      "outputs": [
        {
          "output_type": "stream",
          "text": [
            "Some weights of the model checkpoint at bert-base-uncased were not used when initializing BertForSequenceClassification: ['cls.predictions.bias', 'cls.predictions.transform.dense.weight', 'cls.predictions.transform.dense.bias', 'cls.predictions.decoder.weight', 'cls.seq_relationship.weight', 'cls.seq_relationship.bias', 'cls.predictions.transform.LayerNorm.weight', 'cls.predictions.transform.LayerNorm.bias']\n",
            "- This IS expected if you are initializing BertForSequenceClassification from the checkpoint of a model trained on another task or with another architecture (e.g. initializing a BertForSequenceClassification model from a BertForPreTraining model).\n",
            "- This IS NOT expected if you are initializing BertForSequenceClassification from the checkpoint of a model that you expect to be exactly identical (initializing a BertForSequenceClassification model from a BertForSequenceClassification model).\n",
            "Some weights of BertForSequenceClassification were not initialized from the model checkpoint at bert-base-uncased and are newly initialized: ['classifier.weight', 'classifier.bias']\n",
            "You should probably TRAIN this model on a down-stream task to be able to use it for predictions and inference.\n"
          ],
          "name": "stderr"
        },
        {
          "output_type": "stream",
          "text": [
            "torch.Size([10, 27])\n"
          ],
          "name": "stdout"
        }
      ]
    },
    {
      "cell_type": "code",
      "metadata": {
        "id": "VGnfLqOpbQS9",
        "colab": {
          "base_uri": "https://localhost:8080/",
          "height": 687
        },
        "outputId": "2fc7923a-1e6f-4d0a-c928-0003537b7d0c"
      },
      "source": [
        "from transformers import AdamW  # optimizer that comes with this library.\n",
        "from transformers import get_linear_schedule_with_warmup\n",
        "from livelossplot import PlotLosses\n",
        "import torch.nn as nn\n",
        "\n",
        "num_epochs = 4\n",
        "\n",
        "# Following recommendations from the BERT paper and also this\n",
        "# blog post https://mccormickml.com/2019/07/22/BERT-fine-tuning/\n",
        "optimizer = AdamW(model.parameters(), lr = 2e-5, eps = 1e-8)\n",
        "total_steps = len(train_loader) * num_epochs\n",
        "scheduler = get_linear_schedule_with_warmup(\n",
        "    optimizer, num_warmup_steps = 0, num_training_steps = total_steps)\n",
        "\n",
        "# Binary Cross-Entroy Loss (BCE Loss).\n",
        "# Please see documentation here:\n",
        "# https://pytorch.org/docs/stable/generated/torch.nn.BCEWithLogitsLoss.html\n",
        "cost_function = nn.BCEWithLogitsLoss(reduction = 'none')\n",
        "\n",
        "# Are the top five scored labels accurate?\n",
        "def top5_accuracy(predicted, labels):\n",
        "    sorted_vals, sorted_ids = \\\n",
        "        predicted.data.sigmoid().sort(dim = 1, descending = True)\n",
        "    pred_vals = sorted_vals[:, :5] > 0.5 # Anything with sigmoid > 0.5 is 1.\n",
        "    true_vals = labels.data.gather(1, sorted_ids[:, :5]) # Find true values.\n",
        "    return (pred_vals == true_vals).sum(dim = 1) / 5.0\n",
        "\n",
        "# Training Loop. \n",
        "best_accuracy = 0\n",
        "liveloss = PlotLosses(); current_step = 0\n",
        "for epoch in range(0, num_epochs):\n",
        "    cumulative_accuracy = 0\n",
        "    cumulative_loss = 0\n",
        "    num_samples = 0\n",
        "    logs = {}\n",
        "    model.train()\n",
        "    for (batch_id, (imgs, texts, text_masks, labels)) in enumerate(train_loader):\n",
        "        # Move to GPU.\n",
        "        texts = texts.cuda()\n",
        "        text_masks = text_masks.cuda()\n",
        "        labels = labels.cuda()\n",
        "\n",
        "        # Compute predictions.\n",
        "        predicted = model(texts, text_masks).logits\n",
        "\n",
        "        # Compute loss.\n",
        "        loss = cost_function(predicted, labels)\n",
        "\n",
        "        # Compute cumulative loss and top-5 accuracy.\n",
        "        cumulative_loss += loss.data.sum().item()\n",
        "        cumulative_accuracy += top5_accuracy(predicted, labels).sum().item()\n",
        "        num_samples += texts.size(0)\n",
        "\n",
        "        # Backpropagation and SGD update step.\n",
        "        model.zero_grad()\n",
        "        loss.mean().backward()\n",
        "        optimizer.step()\n",
        "        \n",
        "        if batch_id % 100 == 0:\n",
        "            print(epoch, batch_id, cumulative_accuracy / num_samples)\n",
        "            logs['loss'] = cumulative_loss / num_samples\n",
        "            logs['accuracy'] = cumulative_accuracy / num_samples\n",
        "            liveloss.update(logs)\n",
        "            liveloss.send()\n",
        "            current_step += 1\n",
        "    \n",
        "    cumulative_accuracy = 0\n",
        "    cumulative_loss = 0\n",
        "    num_samples = 0\n",
        "    model.eval()\n",
        "    for (batch_id, (imgs, texts, text_masks, labels)) in enumerate(val_loader):\n",
        "        # Move to GPU.\n",
        "        texts = texts.cuda()\n",
        "        text_masks = text_masks.cuda()\n",
        "        labels = labels.cuda()\n",
        "\n",
        "        # Compute predictions.\n",
        "        predicted = model(texts, text_masks).logits\n",
        "\n",
        "        # Compute loss.\n",
        "        loss = cost_function(predicted, labels)\n",
        "\n",
        "        # Compute cumulative loss and top-5 accuracy.\n",
        "        cumulative_loss += loss.data.sum().item()\n",
        "        cumulative_accuracy += top5_accuracy(predicted, labels).sum().item()\n",
        "        num_samples += texts.size(0)\n",
        "\n",
        "        if (1 + batch_id) % 100 == 0:\n",
        "            logs['val_loss'] = cumulative_loss / num_samples\n",
        "            logs['val_accuracy'] = cumulative_accuracy / num_samples    \n",
        "            liveloss.update(logs, current_step)\n",
        "            liveloss.send()\n",
        "\n",
        "    # Advance scheduler.\n",
        "    if scheduler != -1:\n",
        "        scheduler.step()\n",
        "\n",
        "    # Save the parameters for the best accuracy on the validation set so far.\n",
        "    if logs['val_accuracy'] > best_accuracy:\n",
        "        best_accuracy = logs['val_accuracy']\n",
        "        torch.save(model.state_dict(), 'best_model_so_far.pth') "
      ],
      "execution_count": 10,
      "outputs": [
        {
          "output_type": "display_data",
          "data": {
            "image/png": "[encoded data removed]",
            "text/plain": [
              "<Figure size 864x576 with 2 Axes>"
            ]
          },
          "metadata": {
            "tags": [],
            "needs_background": "light"
          }
        },
        {
          "output_type": "stream",
          "text": [
            "accuracy\n",
            "\ttraining         \t (min:    0.120, max:    0.800, cur:    0.775)\n",
            "\tvalidation       \t (min:    0.712, max:    0.725, cur:    0.716)\n",
            "Loss\n",
            "\ttraining         \t (min:    4.332, max:   19.159, cur:    4.363)\n",
            "\tvalidation       \t (min:    5.826, max:    6.294, cur:    6.015)\n"
          ],
          "name": "stdout"
        }
      ]
    }
  ]
}