{
  "nbformat": 4,
  "nbformat_minor": 0,
  "metadata": {
    "colab": {
      "name": "project_results.ipynb",
      "provenance": [],
      "collapsed_sections": []
    },
    "kernelspec": {
      "name": "python3",
      "display_name": "Python 3"
    },
    "accelerator": "GPU"
  },
  "cells": [
    {
      "cell_type": "code",
      "metadata": {
        "colab": {
          "base_uri": "https://localhost:8080/"
        },
        "id": "0v0LirB3U6PL",
        "outputId": "9eebde23-f171-4914-e209-2945f6645e5d"
      },
      "source": [
        "!wget -nc http://www.cs.virginia.edu/~vicente/vislang/mmimdb-256.tar.gz\n",
        "!tar xf mmimdb-256.tar.gz -C ./data/mmimdb-256/"
      ],
      "execution_count": 1,
      "outputs": [
        {
          "output_type": "stream",
          "text": [
            "--2020-12-02 18:04:30--  http://www.cs.virginia.edu/~vicente/vislang/mmimdb-256.tar.gz\n",
            "Resolving www.cs.virginia.edu (www.cs.virginia.edu)... 128.143.67.11\n",
            "Connecting to www.cs.virginia.edu (www.cs.virginia.edu)|128.143.67.11|:80... connected.\n",
            "HTTP request sent, awaiting response... 200 OK\n",
            "Length: 643479473 (614M) [application/x-gzip]\n",
            "Saving to: ‘mmimdb-256.tar.gz’\n",
            "\n",
            "mmimdb-256.tar.gz   100%[===================>] 613.67M  37.9MB/s    in 17s     \n",
            "\n",
            "2020-12-02 18:04:48 (36.6 MB/s) - ‘mmimdb-256.tar.gz’ saved [643479473/643479473]\n",
            "\n"
          ],
          "name": "stdout"
        }
      ]
    },
    {
      "cell_type": "code",
      "metadata": {
        "id": "FLqdYi_bXI3b"
      },
      "source": [
        "from zipfile import ZipFile \n",
        "\n",
        "\n",
        "with ZipFile('deep-text-recognition-benchmark.zip', 'r') as zipObj:\n",
        "   # Extract all the contents of zip file in current directory\n",
        "   zipObj.extractall()\n",
        "\n",
        "from zipfile import ZipFile \n",
        "\n",
        "\n",
        "with ZipFile('CRAFT-pytorch.zip', 'r') as zipObj:\n",
        "   # Extract all the contents of zip file in current directory\n",
        "   zipObj.extractall()"
      ],
      "execution_count": 2,
      "outputs": []
    },
    {
      "cell_type": "code",
      "metadata": {
        "colab": {
          "base_uri": "https://localhost:8080/"
        },
        "id": "otemfxmBa8fT",
        "outputId": "deea8590-9148-426d-fcbb-5bceff9e1e9c"
      },
      "source": [
        "!pip -q install transformers"
      ],
      "execution_count": 3,
      "outputs": [
        {
          "output_type": "stream",
          "text": [
            "\u001b[K     |████████████████████████████████| 1.4MB 7.2MB/s \n",
            "\u001b[K     |████████████████████████████████| 2.9MB 26.4MB/s \n",
            "\u001b[K     |████████████████████████████████| 890kB 57.4MB/s \n",
            "\u001b[?25h  Building wheel for sacremoses (setup.py) ... \u001b[?25l\u001b[?25hdone\n"
          ],
          "name": "stdout"
        }
      ]
    },
    {
      "cell_type": "code",
      "metadata": {
        "id": "mRLgCJ0SXJkA"
      },
      "source": [
        "from transformers import BertForSequenceClassification\n",
        "import torch, os, json\n",
        "import matplotlib.pyplot as plt\n",
        "from transformers import BertTokenizer\n",
        "from PIL import Image\n",
        "from text_extractor import TextExtractor\n",
        "\n",
        "\n",
        "class MovieDataset(torch.utils.data.Dataset):\n",
        "    def __init__(self, folder = 'data/mmimdb-256/dataset-resized-256max', split = 'dev',\n",
        "                 image_transform = None):\n",
        "        self.json_dir = os.path.join(folder, split, 'metadata')\n",
        "        self.image_dir = os.path.join(folder, split, 'images')\n",
        "        self.image_transform = image_transform\n",
        "        self.tokenizer = BertTokenizer.from_pretrained('bert-base-uncased')\n",
        "        self.text_extractor = TextExtractor(folder+\"/\"+split+\"/images/\",split+\"_\"+\"dataset_text_extract_output.txt\",split)\n",
        "        #insantiate a model to extract text\n",
        "\n",
        "        # Category definitions of movies.\n",
        "        self.categories = ['Action', 'Adult', 'Adventure', 'Animation', 'Biography', \n",
        "                           'Comedy', 'Crime', 'Documentary', 'Drama', \n",
        "                           'Family', 'Fantasy', 'Film-Noir', 'History', \n",
        "                           'Horror', 'Music', 'Musical', 'Mystery', 'News', \n",
        "                           'Reality-TV', 'Romance', 'Sci-Fi', 'Short', \n",
        "                           'Sport', 'Talk-Show', 'Thriller', 'War', 'Western']\n",
        "        self.categories2ids = {category: id for (id, category) \n",
        "                               in enumerate(self.categories)}\n",
        "\n",
        "        # Load JSON files.\n",
        "        #print('Loading %s ...' % self.json_dir, end = '')\n",
        "        print(\"extracting text and getting metadata\")\n",
        "        self.fdir = os.listdir(self.json_dir)\n",
        "        self.metadata = [(fname[:-5], json.load(open(os.path.join(self.json_dir, fname)))) \n",
        "                     for fname in sorted(self.fdir) if not fname.startswith('.')]\n",
        "        print(len(self.metadata))\n",
        "        self.text_extractor.extract_text()\n",
        "        \n",
        "        print(' finished')\n",
        "\n",
        "        # Pre-tokenizing all sentences.\n",
        "        \n",
        "        print('Tokenizing...', end = '')\n",
        "        self.tokenized_plots = list()\n",
        "        for i in range(0, len(self.metadata)):\n",
        "            text = self.text_extractor.get_item(i) #self.metadata[i][1]['plot'][0]\n",
        "            encoded_text = self.tokenizer.encode_plus(\n",
        "                text, add_special_tokens = True, truncation = True, \n",
        "                max_length = 256, padding = 'max_length',\n",
        "                return_attention_mask = True,\n",
        "                return_tensors = 'pt')\n",
        "            self.tokenized_plots.append(encoded_text)\n",
        "        print(' finished')\n",
        "        \n",
        "            \n",
        "    def __getitem__(self, index: int):\n",
        "        # Load images on the fly.\n",
        "        filename, movie_data = self.metadata[index]\n",
        "        img_path = os.path.join(self.image_dir, filename + '.jpeg')\n",
        "        image = Image.open(img_path).convert('RGB')\n",
        "        #TODO: ADD cacheing\n",
        "        text = self.tokenized_plots[index]['input_ids'][0]\n",
        "        text_mask = self.tokenized_plots[index]['attention_mask'][0]\n",
        "        genres = movie_data['genres']\n",
        "\n",
        "        if self.image_transform: image = self.image_transform(image)\n",
        "\n",
        "        # Encode labels in a binary vector.\n",
        "        label_vector = torch.zeros((len(self.categories)))\n",
        "        label_ids = [self.categories2ids[cat] for cat in genres]\n",
        "        label_vector[label_ids] = 1\n",
        "\n",
        "        return image, text, text_mask, label_vector\n",
        "\n",
        "    def load_image_only(self, index: int):\n",
        "        filename, movie_data = self.metadata[index]\n",
        "        img_path = os.path.join(self.image_dir, filename + '.jpeg')\n",
        "        image = Image.open(img_path).convert('RGB')\n",
        "        return image\n",
        "\n",
        "\n",
        "    def __len__(self):\n",
        "        return len(self.metadata)"
      ],
      "execution_count": 3,
      "outputs": []
    },
    {
      "cell_type": "code",
      "metadata": {
        "colab": {
          "base_uri": "https://localhost:8080/"
        },
        "id": "eqtiRqK4XRsv",
        "outputId": "bc9eda58-ba63-4025-e5e1-2214e6b45ccf"
      },
      "source": [
        "# Let's setup the data loaders and preprocessing.\n",
        "import torchvision.transforms as transforms\n",
        "\n",
        "# Batch size is a liming factor on constrained resources.\n",
        "# only GPUs with a large memory can hold large batches.\n",
        "batch_size = 10\n",
        "\n",
        "image_transform = transforms.Compose([\n",
        "        transforms.Resize(256),\n",
        "        transforms.CenterCrop((224, 224)),\n",
        "        transforms.ToTensor(),\n",
        "        transforms.Normalize(mean=[0.485, 0.456, 0.406],\n",
        "                             std=[0.229, 0.224, 0.225])])\n",
        "\n",
        "trainset = MovieDataset(split = 'train', image_transform = image_transform)\n",
        "valset = MovieDataset(split = 'dev', image_transform = image_transform)\n",
        "testset = MovieDataset(split = 'test', image_transform = image_transform)\n",
        "\n",
        "train_loader = torch.utils.data.DataLoader(trainset, \n",
        "                                           batch_size = batch_size, \n",
        "                                           shuffle = True, \n",
        "                                           pin_memory = True,\n",
        "                                           num_workers = 4)\n",
        "val_loader = torch.utils.data.DataLoader(valset, \n",
        "                                         batch_size = batch_size, \n",
        "                                         shuffle = False)\n",
        "test_loader = torch.utils.data.DataLoader(testset, \n",
        "                                         batch_size = batch_size, \n",
        "                                         shuffle = False)\n",
        "\n",
        "\n"
      ],
      "execution_count": 4,
      "outputs": [
        {
          "output_type": "stream",
          "text": [
            "extracting text and getting metadata\n",
            "15552\n",
            " finished\n",
            "Tokenizing... finished\n",
            "extracting text and getting metadata\n",
            "2608\n",
            " finished\n",
            "Tokenizing... finished\n",
            "extracting text and getting metadata\n",
            "7799\n",
            " finished\n",
            "Tokenizing... finished\n"
          ],
          "name": "stdout"
        }
      ]
    },
    {
      "cell_type": "code",
      "metadata": {
        "colab": {
          "base_uri": "https://localhost:8080/",
          "height": 609
        },
        "id": "ri7DNkCfbs1o",
        "outputId": "0b21f147-8e42-4ed7-d148-b149341555ca"
      },
      "source": [
        "print('Data size: %d samples' % len(valset))\n",
        "\n",
        "sample_movieID = 4\n",
        "img, text, text_mask, labels = valset[sample_movieID]\n",
        "#print(text)\n",
        "#print(text_mask)\n",
        "\n",
        "print(valset.tokenizer.convert_ids_to_tokens(text.numpy().tolist()))\n",
        "#print(val_data.tokenizer.convert_ids_to_tokens([100,0,1,2,3,4,5,6,7,8,9,10,101,102,103,104,105,106,107]))\n",
        "\n",
        "labels = labels.numpy()\n",
        "# Is there a better way to do this?\n",
        "print([valset.categories[ind] for ind, val in enumerate(labels == 1) if val == 1])\n",
        "\n",
        "plt.imshow(img.permute(1, 2, 0))\n",
        "plt.show()\n",
        "\n",
        "img_original = valset.load_image_only(sample_movieID)\n",
        "plt.imshow(img_original)\n",
        "plt.show()"
      ],
      "execution_count": 5,
      "outputs": [
        {
          "output_type": "stream",
          "text": [
            "Clipping input data to the valid range for imshow with RGB data ([0..1] for floats or [0..255] for integers).\n"
          ],
          "name": "stderr"
        },
        {
          "output_type": "stream",
          "text": [
            "Data size: 2608 samples\n",
            "['[CLS]', 'william', 'fa', '##vers', '##ham', '[SEP]', 'the', 'sq', '##ua', '##w', 'man', '[SEP]', 'is', '##my', '##son', '[SEP]', '[PAD]', '[PAD]', '[PAD]', '[PAD]', '[PAD]', '[PAD]', '[PAD]', '[PAD]', '[PAD]', '[PAD]', '[PAD]', '[PAD]', '[PAD]', '[PAD]', '[PAD]', '[PAD]', '[PAD]', '[PAD]', '[PAD]', '[PAD]', '[PAD]', '[PAD]', '[PAD]', '[PAD]', '[PAD]', '[PAD]', '[PAD]', '[PAD]', '[PAD]', '[PAD]', '[PAD]', '[PAD]', '[PAD]', '[PAD]', '[PAD]', '[PAD]', '[PAD]', '[PAD]', '[PAD]', '[PAD]', '[PAD]', '[PAD]', '[PAD]', '[PAD]', '[PAD]', '[PAD]', '[PAD]', '[PAD]', '[PAD]', '[PAD]', '[PAD]', '[PAD]', '[PAD]', '[PAD]', '[PAD]', '[PAD]', '[PAD]', '[PAD]', '[PAD]', '[PAD]', '[PAD]', '[PAD]', '[PAD]', '[PAD]', '[PAD]', '[PAD]', '[PAD]', '[PAD]', '[PAD]', '[PAD]', '[PAD]', '[PAD]', '[PAD]', '[PAD]', '[PAD]', '[PAD]', '[PAD]', '[PAD]', '[PAD]', '[PAD]', '[PAD]', '[PAD]', '[PAD]', '[PAD]', '[PAD]', '[PAD]', '[PAD]', '[PAD]', '[PAD]', '[PAD]', '[PAD]', '[PAD]', '[PAD]', '[PAD]', '[PAD]', '[PAD]', '[PAD]', '[PAD]', '[PAD]', '[PAD]', '[PAD]', '[PAD]', '[PAD]', '[PAD]', '[PAD]', '[PAD]', '[PAD]', '[PAD]', '[PAD]', '[PAD]', '[PAD]', '[PAD]', '[PAD]', '[PAD]', '[PAD]', '[PAD]', '[PAD]', '[PAD]', '[PAD]', '[PAD]', '[PAD]', '[PAD]', '[PAD]', '[PAD]', '[PAD]', '[PAD]', '[PAD]', '[PAD]', '[PAD]', '[PAD]', '[PAD]', '[PAD]', '[PAD]', '[PAD]', '[PAD]', '[PAD]', '[PAD]', '[PAD]', '[PAD]', '[PAD]', '[PAD]', '[PAD]', '[PAD]', '[PAD]', '[PAD]', '[PAD]', '[PAD]', '[PAD]', '[PAD]', '[PAD]', '[PAD]', '[PAD]', '[PAD]', '[PAD]', '[PAD]', '[PAD]', '[PAD]', '[PAD]', '[PAD]', '[PAD]', '[PAD]', '[PAD]', '[PAD]', '[PAD]', '[PAD]', '[PAD]', '[PAD]', '[PAD]', '[PAD]', '[PAD]', '[PAD]', '[PAD]', '[PAD]', '[PAD]', '[PAD]', '[PAD]', '[PAD]', '[PAD]', '[PAD]', '[PAD]', '[PAD]', '[PAD]', '[PAD]', '[PAD]', '[PAD]', '[PAD]', '[PAD]', '[PAD]', '[PAD]', '[PAD]', '[PAD]', '[PAD]', '[PAD]', '[PAD]', '[PAD]', '[PAD]', '[PAD]', '[PAD]', '[PAD]', '[PAD]', '[PAD]', '[PAD]', '[PAD]', '[PAD]', '[PAD]', '[PAD]', '[PAD]', '[PAD]', '[PAD]', '[PAD]', '[PAD]', '[PAD]', '[PAD]', '[PAD]', '[PAD]', '[PAD]', '[PAD]', '[PAD]', '[PAD]', '[PAD]', '[PAD]', '[PAD]', '[PAD]', '[PAD]', '[PAD]', '[PAD]', '[PAD]', '[PAD]', '[PAD]', '[PAD]', '[PAD]', '[PAD]', '[PAD]', '[PAD]', '[PAD]', '[PAD]', '[PAD]', '[PAD]', '[PAD]', '[PAD]']\n",
            "['Action', 'Drama', 'Romance', 'Western']\n"
          ],
          "name": "stdout"
        },
        {
          "output_type": "display_data",
          "data": {
            "image/png": "[encoded data removed]",
            "text/plain": [
              "<Figure size 432x288 with 1 Axes>"
            ]
          },
          "metadata": {
            "tags": [],
            "needs_background": "light"
          }
        },
        {
          "output_type": "display_data",
          "data": {
            "image/png": "[encoded data removed]",
            "text/plain": [
              "<Figure size 432x288 with 1 Axes>"
            ]
          },
          "metadata": {
            "tags": [],
            "needs_background": "light"
          }
        }
      ]
    },
    {
      "cell_type": "code",
      "metadata": {
        "colab": {
          "base_uri": "https://localhost:8080/"
        },
        "id": "dzmn0DlN0j3s",
        "outputId": "358bccdd-20ac-4b92-aa56-9835d7646c6f"
      },
      "source": [
        "num_categories = len(trainset.categories)\n",
        "device = torch.device('cuda' if torch.cuda.is_available() else 'cpu')\n",
        "print(device)\n",
        "model_text = BertForSequenceClassification.from_pretrained('bert-base-uncased', \n",
        "    num_labels = num_categories,  output_attentions = False, \n",
        "    output_hidden_states = False)\n",
        "model_text.load_state_dict(torch.load('best_model_mmu.pth', map_location=device))\n",
        "model_text.eval()"
      ],
      "execution_count": 6,
      "outputs": [
        {
          "output_type": "stream",
          "text": [
            "cuda\n"
          ],
          "name": "stdout"
        },
        {
          "output_type": "stream",
          "text": [
            "Some weights of the model checkpoint at bert-base-uncased were not used when initializing BertForSequenceClassification: ['cls.predictions.bias', 'cls.predictions.transform.dense.weight', 'cls.predictions.transform.dense.bias', 'cls.predictions.decoder.weight', 'cls.seq_relationship.weight', 'cls.seq_relationship.bias', 'cls.predictions.transform.LayerNorm.weight', 'cls.predictions.transform.LayerNorm.bias']\n",
            "- This IS expected if you are initializing BertForSequenceClassification from the checkpoint of a model trained on another task or with another architecture (e.g. initializing a BertForSequenceClassification model from a BertForPreTraining model).\n",
            "- This IS NOT expected if you are initializing BertForSequenceClassification from the checkpoint of a model that you expect to be exactly identical (initializing a BertForSequenceClassification model from a BertForSequenceClassification model).\n",
            "Some weights of BertForSequenceClassification were not initialized from the model checkpoint at bert-base-uncased and are newly initialized: ['classifier.weight', 'classifier.bias']\n",
            "You should probably TRAIN this model on a down-stream task to be able to use it for predictions and inference.\n"
          ],
          "name": "stderr"
        },
        {
          "output_type": "execute_result",
          "data": {
            "text/plain": [
              "BertForSequenceClassification(\n",
              "  (bert): BertModel(\n",
              "    (embeddings): BertEmbeddings(\n",
              "      (word_embeddings): Embedding(30522, 768, padding_idx=0)\n",
              "      (position_embeddings): Embedding(512, 768)\n",
              "      (token_type_embeddings): Embedding(2, 768)\n",
              "      (LayerNorm): LayerNorm((768,), eps=1e-12, elementwise_affine=True)\n",
              "      (dropout): Dropout(p=0.1, inplace=False)\n",
              "    )\n",
              "    (encoder): BertEncoder(\n",
              "      (layer): ModuleList(\n",
              "        (0): BertLayer(\n",
              "          (attention): BertAttention(\n",
              "            (self): BertSelfAttention(\n",
              "              (query): Linear(in_features=768, out_features=768, bias=True)\n",
              "              (key): Linear(in_features=768, out_features=768, bias=True)\n",
              "              (value): Linear(in_features=768, out_features=768, bias=True)\n",
              "              (dropout): Dropout(p=0.1, inplace=False)\n",
              "            )\n",
              "            (output): BertSelfOutput(\n",
              "              (dense): Linear(in_features=768, out_features=768, bias=True)\n",
              "              (LayerNorm): LayerNorm((768,), eps=1e-12, elementwise_affine=True)\n",
              "              (dropout): Dropout(p=0.1, inplace=False)\n",
              "            )\n",
              "          )\n",
              "          (intermediate): BertIntermediate(\n",
              "            (dense): Linear(in_features=768, out_features=3072, bias=True)\n",
              "          )\n",
              "          (output): BertOutput(\n",
              "            (dense): Linear(in_features=3072, out_features=768, bias=True)\n",
              "            (LayerNorm): LayerNorm((768,), eps=1e-12, elementwise_affine=True)\n",
              "            (dropout): Dropout(p=0.1, inplace=False)\n",
              "          )\n",
              "        )\n",
              "        (1): BertLayer(\n",
              "          (attention): BertAttention(\n",
              "            (self): BertSelfAttention(\n",
              "              (query): Linear(in_features=768, out_features=768, bias=True)\n",
              "              (key): Linear(in_features=768, out_features=768, bias=True)\n",
              "              (value): Linear(in_features=768, out_features=768, bias=True)\n",
              "              (dropout): Dropout(p=0.1, inplace=False)\n",
              "            )\n",
              "            (output): BertSelfOutput(\n",
              "              (dense): Linear(in_features=768, out_features=768, bias=True)\n",
              "              (LayerNorm): LayerNorm((768,), eps=1e-12, elementwise_affine=True)\n",
              "              (dropout): Dropout(p=0.1, inplace=False)\n",
              "            )\n",
              "          )\n",
              "          (intermediate): BertIntermediate(\n",
              "            (dense): Linear(in_features=768, out_features=3072, bias=True)\n",
              "          )\n",
              "          (output): BertOutput(\n",
              "            (dense): Linear(in_features=3072, out_features=768, bias=True)\n",
              "            (LayerNorm): LayerNorm((768,), eps=1e-12, elementwise_affine=True)\n",
              "            (dropout): Dropout(p=0.1, inplace=False)\n",
              "          )\n",
              "        )\n",
              "        (2): BertLayer(\n",
              "          (attention): BertAttention(\n",
              "            (self): BertSelfAttention(\n",
              "              (query): Linear(in_features=768, out_features=768, bias=True)\n",
              "              (key): Linear(in_features=768, out_features=768, bias=True)\n",
              "              (value): Linear(in_features=768, out_features=768, bias=True)\n",
              "              (dropout): Dropout(p=0.1, inplace=False)\n",
              "            )\n",
              "            (output): BertSelfOutput(\n",
              "              (dense): Linear(in_features=768, out_features=768, bias=True)\n",
              "              (LayerNorm): LayerNorm((768,), eps=1e-12, elementwise_affine=True)\n",
              "              (dropout): Dropout(p=0.1, inplace=False)\n",
              "            )\n",
              "          )\n",
              "          (intermediate): BertIntermediate(\n",
              "            (dense): Linear(in_features=768, out_features=3072, bias=True)\n",
              "          )\n",
              "          (output): BertOutput(\n",
              "            (dense): Linear(in_features=3072, out_features=768, bias=True)\n",
              "            (LayerNorm): LayerNorm((768,), eps=1e-12, elementwise_affine=True)\n",
              "            (dropout): Dropout(p=0.1, inplace=False)\n",
              "          )\n",
              "        )\n",
              "        (3): BertLayer(\n",
              "          (attention): BertAttention(\n",
              "            (self): BertSelfAttention(\n",
              "              (query): Linear(in_features=768, out_features=768, bias=True)\n",
              "              (key): Linear(in_features=768, out_features=768, bias=True)\n",
              "              (value): Linear(in_features=768, out_features=768, bias=True)\n",
              "              (dropout): Dropout(p=0.1, inplace=False)\n",
              "            )\n",
              "            (output): BertSelfOutput(\n",
              "              (dense): Linear(in_features=768, out_features=768, bias=True)\n",
              "              (LayerNorm): LayerNorm((768,), eps=1e-12, elementwise_affine=True)\n",
              "              (dropout): Dropout(p=0.1, inplace=False)\n",
              "            )\n",
              "          )\n",
              "          (intermediate): BertIntermediate(\n",
              "            (dense): Linear(in_features=768, out_features=3072, bias=True)\n",
              "          )\n",
              "          (output): BertOutput(\n",
              "            (dense): Linear(in_features=3072, out_features=768, bias=True)\n",
              "            (LayerNorm): LayerNorm((768,), eps=1e-12, elementwise_affine=True)\n",
              "            (dropout): Dropout(p=0.1, inplace=False)\n",
              "          )\n",
              "        )\n",
              "        (4): BertLayer(\n",
              "          (attention): BertAttention(\n",
              "            (self): BertSelfAttention(\n",
              "              (query): Linear(in_features=768, out_features=768, bias=True)\n",
              "              (key): Linear(in_features=768, out_features=768, bias=True)\n",
              "              (value): Linear(in_features=768, out_features=768, bias=True)\n",
              "              (dropout): Dropout(p=0.1, inplace=False)\n",
              "            )\n",
              "            (output): BertSelfOutput(\n",
              "              (dense): Linear(in_features=768, out_features=768, bias=True)\n",
              "              (LayerNorm): LayerNorm((768,), eps=1e-12, elementwise_affine=True)\n",
              "              (dropout): Dropout(p=0.1, inplace=False)\n",
              "            )\n",
              "          )\n",
              "          (intermediate): BertIntermediate(\n",
              "            (dense): Linear(in_features=768, out_features=3072, bias=True)\n",
              "          )\n",
              "          (output): BertOutput(\n",
              "            (dense): Linear(in_features=3072, out_features=768, bias=True)\n",
              "            (LayerNorm): LayerNorm((768,), eps=1e-12, elementwise_affine=True)\n",
              "            (dropout): Dropout(p=0.1, inplace=False)\n",
              "          )\n",
              "        )\n",
              "        (5): BertLayer(\n",
              "          (attention): BertAttention(\n",
              "            (self): BertSelfAttention(\n",
              "              (query): Linear(in_features=768, out_features=768, bias=True)\n",
              "              (key): Linear(in_features=768, out_features=768, bias=True)\n",
              "              (value): Linear(in_features=768, out_features=768, bias=True)\n",
              "              (dropout): Dropout(p=0.1, inplace=False)\n",
              "            )\n",
              "            (output): BertSelfOutput(\n",
              "              (dense): Linear(in_features=768, out_features=768, bias=True)\n",
              "              (LayerNorm): LayerNorm((768,), eps=1e-12, elementwise_affine=True)\n",
              "              (dropout): Dropout(p=0.1, inplace=False)\n",
              "            )\n",
              "          )\n",
              "          (intermediate): BertIntermediate(\n",
              "            (dense): Linear(in_features=768, out_features=3072, bias=True)\n",
              "          )\n",
              "          (output): BertOutput(\n",
              "            (dense): Linear(in_features=3072, out_features=768, bias=True)\n",
              "            (LayerNorm): LayerNorm((768,), eps=1e-12, elementwise_affine=True)\n",
              "            (dropout): Dropout(p=0.1, inplace=False)\n",
              "          )\n",
              "        )\n",
              "        (6): BertLayer(\n",
              "          (attention): BertAttention(\n",
              "            (self): BertSelfAttention(\n",
              "              (query): Linear(in_features=768, out_features=768, bias=True)\n",
              "              (key): Linear(in_features=768, out_features=768, bias=True)\n",
              "              (value): Linear(in_features=768, out_features=768, bias=True)\n",
              "              (dropout): Dropout(p=0.1, inplace=False)\n",
              "            )\n",
              "            (output): BertSelfOutput(\n",
              "              (dense): Linear(in_features=768, out_features=768, bias=True)\n",
              "              (LayerNorm): LayerNorm((768,), eps=1e-12, elementwise_affine=True)\n",
              "              (dropout): Dropout(p=0.1, inplace=False)\n",
              "            )\n",
              "          )\n",
              "          (intermediate): BertIntermediate(\n",
              "            (dense): Linear(in_features=768, out_features=3072, bias=True)\n",
              "          )\n",
              "          (output): BertOutput(\n",
              "            (dense): Linear(in_features=3072, out_features=768, bias=True)\n",
              "            (LayerNorm): LayerNorm((768,), eps=1e-12, elementwise_affine=True)\n",
              "            (dropout): Dropout(p=0.1, inplace=False)\n",
              "          )\n",
              "        )\n",
              "        (7): BertLayer(\n",
              "          (attention): BertAttention(\n",
              "            (self): BertSelfAttention(\n",
              "              (query): Linear(in_features=768, out_features=768, bias=True)\n",
              "              (key): Linear(in_features=768, out_features=768, bias=True)\n",
              "              (value): Linear(in_features=768, out_features=768, bias=True)\n",
              "              (dropout): Dropout(p=0.1, inplace=False)\n",
              "            )\n",
              "            (output): BertSelfOutput(\n",
              "              (dense): Linear(in_features=768, out_features=768, bias=True)\n",
              "              (LayerNorm): LayerNorm((768,), eps=1e-12, elementwise_affine=True)\n",
              "              (dropout): Dropout(p=0.1, inplace=False)\n",
              "            )\n",
              "          )\n",
              "          (intermediate): BertIntermediate(\n",
              "            (dense): Linear(in_features=768, out_features=3072, bias=True)\n",
              "          )\n",
              "          (output): BertOutput(\n",
              "            (dense): Linear(in_features=3072, out_features=768, bias=True)\n",
              "            (LayerNorm): LayerNorm((768,), eps=1e-12, elementwise_affine=True)\n",
              "            (dropout): Dropout(p=0.1, inplace=False)\n",
              "          )\n",
              "        )\n",
              "        (8): BertLayer(\n",
              "          (attention): BertAttention(\n",
              "            (self): BertSelfAttention(\n",
              "              (query): Linear(in_features=768, out_features=768, bias=True)\n",
              "              (key): Linear(in_features=768, out_features=768, bias=True)\n",
              "              (value): Linear(in_features=768, out_features=768, bias=True)\n",
              "              (dropout): Dropout(p=0.1, inplace=False)\n",
              "            )\n",
              "            (output): BertSelfOutput(\n",
              "              (dense): Linear(in_features=768, out_features=768, bias=True)\n",
              "              (LayerNorm): LayerNorm((768,), eps=1e-12, elementwise_affine=True)\n",
              "              (dropout): Dropout(p=0.1, inplace=False)\n",
              "            )\n",
              "          )\n",
              "          (intermediate): BertIntermediate(\n",
              "            (dense): Linear(in_features=768, out_features=3072, bias=True)\n",
              "          )\n",
              "          (output): BertOutput(\n",
              "            (dense): Linear(in_features=3072, out_features=768, bias=True)\n",
              "            (LayerNorm): LayerNorm((768,), eps=1e-12, elementwise_affine=True)\n",
              "            (dropout): Dropout(p=0.1, inplace=False)\n",
              "          )\n",
              "        )\n",
              "        (9): BertLayer(\n",
              "          (attention): BertAttention(\n",
              "            (self): BertSelfAttention(\n",
              "              (query): Linear(in_features=768, out_features=768, bias=True)\n",
              "              (key): Linear(in_features=768, out_features=768, bias=True)\n",
              "              (value): Linear(in_features=768, out_features=768, bias=True)\n",
              "              (dropout): Dropout(p=0.1, inplace=False)\n",
              "            )\n",
              "            (output): BertSelfOutput(\n",
              "              (dense): Linear(in_features=768, out_features=768, bias=True)\n",
              "              (LayerNorm): LayerNorm((768,), eps=1e-12, elementwise_affine=True)\n",
              "              (dropout): Dropout(p=0.1, inplace=False)\n",
              "            )\n",
              "          )\n",
              "          (intermediate): BertIntermediate(\n",
              "            (dense): Linear(in_features=768, out_features=3072, bias=True)\n",
              "          )\n",
              "          (output): BertOutput(\n",
              "            (dense): Linear(in_features=3072, out_features=768, bias=True)\n",
              "            (LayerNorm): LayerNorm((768,), eps=1e-12, elementwise_affine=True)\n",
              "            (dropout): Dropout(p=0.1, inplace=False)\n",
              "          )\n",
              "        )\n",
              "        (10): BertLayer(\n",
              "          (attention): BertAttention(\n",
              "            (self): BertSelfAttention(\n",
              "              (query): Linear(in_features=768, out_features=768, bias=True)\n",
              "              (key): Linear(in_features=768, out_features=768, bias=True)\n",
              "              (value): Linear(in_features=768, out_features=768, bias=True)\n",
              "              (dropout): Dropout(p=0.1, inplace=False)\n",
              "            )\n",
              "            (output): BertSelfOutput(\n",
              "              (dense): Linear(in_features=768, out_features=768, bias=True)\n",
              "              (LayerNorm): LayerNorm((768,), eps=1e-12, elementwise_affine=True)\n",
              "              (dropout): Dropout(p=0.1, inplace=False)\n",
              "            )\n",
              "          )\n",
              "          (intermediate): BertIntermediate(\n",
              "            (dense): Linear(in_features=768, out_features=3072, bias=True)\n",
              "          )\n",
              "          (output): BertOutput(\n",
              "            (dense): Linear(in_features=3072, out_features=768, bias=True)\n",
              "            (LayerNorm): LayerNorm((768,), eps=1e-12, elementwise_affine=True)\n",
              "            (dropout): Dropout(p=0.1, inplace=False)\n",
              "          )\n",
              "        )\n",
              "        (11): BertLayer(\n",
              "          (attention): BertAttention(\n",
              "            (self): BertSelfAttention(\n",
              "              (query): Linear(in_features=768, out_features=768, bias=True)\n",
              "              (key): Linear(in_features=768, out_features=768, bias=True)\n",
              "              (value): Linear(in_features=768, out_features=768, bias=True)\n",
              "              (dropout): Dropout(p=0.1, inplace=False)\n",
              "            )\n",
              "            (output): BertSelfOutput(\n",
              "              (dense): Linear(in_features=768, out_features=768, bias=True)\n",
              "              (LayerNorm): LayerNorm((768,), eps=1e-12, elementwise_affine=True)\n",
              "              (dropout): Dropout(p=0.1, inplace=False)\n",
              "            )\n",
              "          )\n",
              "          (intermediate): BertIntermediate(\n",
              "            (dense): Linear(in_features=768, out_features=3072, bias=True)\n",
              "          )\n",
              "          (output): BertOutput(\n",
              "            (dense): Linear(in_features=3072, out_features=768, bias=True)\n",
              "            (LayerNorm): LayerNorm((768,), eps=1e-12, elementwise_affine=True)\n",
              "            (dropout): Dropout(p=0.1, inplace=False)\n",
              "          )\n",
              "        )\n",
              "      )\n",
              "    )\n",
              "    (pooler): BertPooler(\n",
              "      (dense): Linear(in_features=768, out_features=768, bias=True)\n",
              "      (activation): Tanh()\n",
              "    )\n",
              "  )\n",
              "  (dropout): Dropout(p=0.1, inplace=False)\n",
              "  (classifier): Linear(in_features=768, out_features=27, bias=True)\n",
              ")"
            ]
          },
          "metadata": {
            "tags": []
          },
          "execution_count": 6
        }
      ]
    },
    {
      "cell_type": "code",
      "metadata": {
        "colab": {
          "base_uri": "https://localhost:8080/"
        },
        "id": "_q07-DAe3Jm6",
        "outputId": "cb805c70-16c7-4df7-fa44-75e23ffe000b"
      },
      "source": [
        "from torchvision import models\n",
        "import torch.nn as nn\n",
        "cnn_model = models.resnet18(pretrained=True) # weights optimized for ImageNet data\n",
        "for param in cnn_model.parameters(): # freezing parameters \n",
        "  param.requires_grad = False\n",
        "\n",
        "num_ftrs = cnn_model.fc.in_features # getting number of input features from last layer\n",
        "cnn_model.fc = nn.Linear(num_ftrs, num_categories) # creating new fully connected layer\n",
        "\n",
        "cnn_model = cnn_model.to(device) # sending model to device\n",
        "cnn_model.load_state_dict(torch.load('best_img_model.pth', map_location=device))\n",
        "cnn_model.eval()"
      ],
      "execution_count": 7,
      "outputs": [
        {
          "output_type": "execute_result",
          "data": {
            "text/plain": [
              "ResNet(\n",
              "  (conv1): Conv2d(3, 64, kernel_size=(7, 7), stride=(2, 2), padding=(3, 3), bias=False)\n",
              "  (bn1): BatchNorm2d(64, eps=1e-05, momentum=0.1, affine=True, track_running_stats=True)\n",
              "  (relu): ReLU(inplace=True)\n",
              "  (maxpool): MaxPool2d(kernel_size=3, stride=2, padding=1, dilation=1, ceil_mode=False)\n",
              "  (layer1): Sequential(\n",
              "    (0): BasicBlock(\n",
              "      (conv1): Conv2d(64, 64, kernel_size=(3, 3), stride=(1, 1), padding=(1, 1), bias=False)\n",
              "      (bn1): BatchNorm2d(64, eps=1e-05, momentum=0.1, affine=True, track_running_stats=True)\n",
              "      (relu): ReLU(inplace=True)\n",
              "      (conv2): Conv2d(64, 64, kernel_size=(3, 3), stride=(1, 1), padding=(1, 1), bias=False)\n",
              "      (bn2): BatchNorm2d(64, eps=1e-05, momentum=0.1, affine=True, track_running_stats=True)\n",
              "    )\n",
              "    (1): BasicBlock(\n",
              "      (conv1): Conv2d(64, 64, kernel_size=(3, 3), stride=(1, 1), padding=(1, 1), bias=False)\n",
              "      (bn1): BatchNorm2d(64, eps=1e-05, momentum=0.1, affine=True, track_running_stats=True)\n",
              "      (relu): ReLU(inplace=True)\n",
              "      (conv2): Conv2d(64, 64, kernel_size=(3, 3), stride=(1, 1), padding=(1, 1), bias=False)\n",
              "      (bn2): BatchNorm2d(64, eps=1e-05, momentum=0.1, affine=True, track_running_stats=True)\n",
              "    )\n",
              "  )\n",
              "  (layer2): Sequential(\n",
              "    (0): BasicBlock(\n",
              "      (conv1): Conv2d(64, 128, kernel_size=(3, 3), stride=(2, 2), padding=(1, 1), bias=False)\n",
              "      (bn1): BatchNorm2d(128, eps=1e-05, momentum=0.1, affine=True, track_running_stats=True)\n",
              "      (relu): ReLU(inplace=True)\n",
              "      (conv2): Conv2d(128, 128, kernel_size=(3, 3), stride=(1, 1), padding=(1, 1), bias=False)\n",
              "      (bn2): BatchNorm2d(128, eps=1e-05, momentum=0.1, affine=True, track_running_stats=True)\n",
              "      (downsample): Sequential(\n",
              "        (0): Conv2d(64, 128, kernel_size=(1, 1), stride=(2, 2), bias=False)\n",
              "        (1): BatchNorm2d(128, eps=1e-05, momentum=0.1, affine=True, track_running_stats=True)\n",
              "      )\n",
              "    )\n",
              "    (1): BasicBlock(\n",
              "      (conv1): Conv2d(128, 128, kernel_size=(3, 3), stride=(1, 1), padding=(1, 1), bias=False)\n",
              "      (bn1): BatchNorm2d(128, eps=1e-05, momentum=0.1, affine=True, track_running_stats=True)\n",
              "      (relu): ReLU(inplace=True)\n",
              "      (conv2): Conv2d(128, 128, kernel_size=(3, 3), stride=(1, 1), padding=(1, 1), bias=False)\n",
              "      (bn2): BatchNorm2d(128, eps=1e-05, momentum=0.1, affine=True, track_running_stats=True)\n",
              "    )\n",
              "  )\n",
              "  (layer3): Sequential(\n",
              "    (0): BasicBlock(\n",
              "      (conv1): Conv2d(128, 256, kernel_size=(3, 3), stride=(2, 2), padding=(1, 1), bias=False)\n",
              "      (bn1): BatchNorm2d(256, eps=1e-05, momentum=0.1, affine=True, track_running_stats=True)\n",
              "      (relu): ReLU(inplace=True)\n",
              "      (conv2): Conv2d(256, 256, kernel_size=(3, 3), stride=(1, 1), padding=(1, 1), bias=False)\n",
              "      (bn2): BatchNorm2d(256, eps=1e-05, momentum=0.1, affine=True, track_running_stats=True)\n",
              "      (downsample): Sequential(\n",
              "        (0): Conv2d(128, 256, kernel_size=(1, 1), stride=(2, 2), bias=False)\n",
              "        (1): BatchNorm2d(256, eps=1e-05, momentum=0.1, affine=True, track_running_stats=True)\n",
              "      )\n",
              "    )\n",
              "    (1): BasicBlock(\n",
              "      (conv1): Conv2d(256, 256, kernel_size=(3, 3), stride=(1, 1), padding=(1, 1), bias=False)\n",
              "      (bn1): BatchNorm2d(256, eps=1e-05, momentum=0.1, affine=True, track_running_stats=True)\n",
              "      (relu): ReLU(inplace=True)\n",
              "      (conv2): Conv2d(256, 256, kernel_size=(3, 3), stride=(1, 1), padding=(1, 1), bias=False)\n",
              "      (bn2): BatchNorm2d(256, eps=1e-05, momentum=0.1, affine=True, track_running_stats=True)\n",
              "    )\n",
              "  )\n",
              "  (layer4): Sequential(\n",
              "    (0): BasicBlock(\n",
              "      (conv1): Conv2d(256, 512, kernel_size=(3, 3), stride=(2, 2), padding=(1, 1), bias=False)\n",
              "      (bn1): BatchNorm2d(512, eps=1e-05, momentum=0.1, affine=True, track_running_stats=True)\n",
              "      (relu): ReLU(inplace=True)\n",
              "      (conv2): Conv2d(512, 512, kernel_size=(3, 3), stride=(1, 1), padding=(1, 1), bias=False)\n",
              "      (bn2): BatchNorm2d(512, eps=1e-05, momentum=0.1, affine=True, track_running_stats=True)\n",
              "      (downsample): Sequential(\n",
              "        (0): Conv2d(256, 512, kernel_size=(1, 1), stride=(2, 2), bias=False)\n",
              "        (1): BatchNorm2d(512, eps=1e-05, momentum=0.1, affine=True, track_running_stats=True)\n",
              "      )\n",
              "    )\n",
              "    (1): BasicBlock(\n",
              "      (conv1): Conv2d(512, 512, kernel_size=(3, 3), stride=(1, 1), padding=(1, 1), bias=False)\n",
              "      (bn1): BatchNorm2d(512, eps=1e-05, momentum=0.1, affine=True, track_running_stats=True)\n",
              "      (relu): ReLU(inplace=True)\n",
              "      (conv2): Conv2d(512, 512, kernel_size=(3, 3), stride=(1, 1), padding=(1, 1), bias=False)\n",
              "      (bn2): BatchNorm2d(512, eps=1e-05, momentum=0.1, affine=True, track_running_stats=True)\n",
              "    )\n",
              "  )\n",
              "  (avgpool): AdaptiveAvgPool2d(output_size=(1, 1))\n",
              "  (fc): Linear(in_features=512, out_features=27, bias=True)\n",
              ")"
            ]
          },
          "metadata": {
            "tags": []
          },
          "execution_count": 7
        }
      ]
    },
    {
      "cell_type": "code",
      "metadata": {
        "colab": {
          "base_uri": "https://localhost:8080/"
        },
        "id": "VovGNgqM3vCd",
        "outputId": "54415806-30e4-42df-93ca-8efcb72dface"
      },
      "source": [
        "img, text, text_mask, labels = valset[sample_movieID]\n",
        "predictions_text = model_text(text.unsqueeze(0), text_mask.unsqueeze(0))\n",
        "print(predictions_text.logits.shape)\n",
        "\n",
        "predictions_image = cnn_model(img.unsqueeze(0).to(device))\n",
        "print(predictions_image.shape)"
      ],
      "execution_count": 36,
      "outputs": [
        {
          "output_type": "stream",
          "text": [
            "torch.Size([1, 27])\n",
            "torch.Size([1, 27])\n"
          ],
          "name": "stdout"
        }
      ]
    },
    {
      "cell_type": "code",
      "metadata": {
        "colab": {
          "base_uri": "https://localhost:8080/"
        },
        "id": "76Wt1foWAQTj",
        "outputId": "b3bb21a6-11f8-49a8-c2e1-5e541b27fffe"
      },
      "source": [
        "_, (imgs, texts, text_masks, labels) = next(enumerate(val_loader))\n",
        "print(imgs.shape, texts.shape, text_masks.shape, labels.shape)\n",
        "\n",
        "predictions_text = model_text(texts, text_masks)\n",
        "print(predictions_text.logits.shape)\n",
        "\n",
        "predictions_image = cnn_model(imgs.to(device))\n",
        "print(predictions_image.shape)"
      ],
      "execution_count": 8,
      "outputs": [
        {
          "output_type": "stream",
          "text": [
            "torch.Size([10, 3, 224, 224]) torch.Size([10, 256]) torch.Size([10, 256]) torch.Size([10, 27])\n",
            "torch.Size([10, 27])\n",
            "torch.Size([10, 27])\n"
          ],
          "name": "stdout"
        }
      ]
    },
    {
      "cell_type": "code",
      "metadata": {
        "id": "2R5g6588KxDe"
      },
      "source": [
        "predictions_text.logits=predictions_text.logits.to(\"cpu\")\n",
        "predictions_image=predictions_image.to(\"cpu\")\n",
        "imgs=imgs.to(\"cpu\")\n",
        "texts=texts.to(\"cpu\")\n",
        "text_masks=text_masks.to(\"cpu\")\n",
        "labels=labels.to(\"cpu\")"
      ],
      "execution_count": 12,
      "outputs": []
    },
    {
      "cell_type": "code",
      "metadata": {
        "colab": {
          "base_uri": "https://localhost:8080/"
        },
        "id": "_UCljrWn4Wkk",
        "outputId": "e4770902-fb9e-46e2-8342-adda9ed23343"
      },
      "source": [
        "#evaluate single modal \n",
        "def top5_accuracy(predicted, labels):\n",
        "    sorted_vals, sorted_ids = \\\n",
        "        predicted.data.sigmoid().sort(dim = 1, descending = True)\n",
        "    #print(predicted.data.sigmoid())\n",
        "    pred_vals = sorted_vals[:, :5] > 0.5 # Anything with sigmoid > 0.5 is 1.\n",
        "    true_vals = labels.data.gather(1, sorted_ids[:, :5]) # Find true values.\n",
        "    #print(pred_vals)\n",
        "    #print(true_vals)\n",
        "    return (pred_vals == true_vals).sum(dim = 1) / 5.0\n",
        "\n",
        "def f_score(predicted, labels):\n",
        "    #print(predicted)\n",
        "    #print(predicted.data.sigmoid())\n",
        "    pred_vals = predicted.data.sigmoid() > 0.5\n",
        "    #print(pred_vals)\n",
        "    #print(labels)\n",
        "    true_positive = ((pred_vals==1) & (pred_vals == labels)).sum(dim = 1)\n",
        "    false_positive = ((pred_vals==1) & (pred_vals != labels)).sum(dim = 1)\n",
        "    false_negative = ((pred_vals==0) & (pred_vals != labels)).sum(dim = 1)\n",
        "    f_score = true_positive/(true_positive+(false_positive+false_negative)/2)\n",
        "    return f_score\n",
        "\"\"\"\n",
        "print(\"accuracy\")\n",
        "a = top5_accuracy(predictions_text.logits,labels)\n",
        "print(a)\n",
        "\n",
        "print(\"fscore\")\n",
        "f_score = f_score(predictions_text.logits,labels)\n",
        "#print(tp)\n",
        "#print(fp)\n",
        "#print(fn)\n",
        "print(f_score)\n",
        "\"\"\"\n",
        "\n",
        "\n",
        "#def get_accuracies(data_loader, img_model, text_model):\n",
        "cnn_model.eval()\n",
        "model_text.eval()\n",
        "cnn_model.to(device)\n",
        "model_text.to(device)\n",
        "cumulative_accuracy_img = 0\n",
        "cumulative_fscore_img = 0\n",
        "cumulative_accuracy_text = 0\n",
        "cumulative_fscore_text = 0\n",
        "\n",
        "num_samples = 0\n",
        "for (batch_id, (imgs, texts, text_masks, labels)) in enumerate(test_loader):\n",
        "  imgs = imgs.cuda()\n",
        "  texts = texts.cuda()\n",
        "  text_masks = text_masks.cuda()\n",
        "  labels = labels.cuda()\n",
        "\n",
        "  predictions_text = model_text(texts, text_masks)\n",
        "  predictions_image = cnn_model(imgs)\n",
        "  cumulative_accuracy_img += top5_accuracy(predictions_image, labels).sum().item()\n",
        "  f_s = f_score(predictions_image,labels)\n",
        "  cumulative_fscore_img+=f_s.sum().item()\n",
        "\n",
        "  cumulative_accuracy_text += top5_accuracy(predictions_text.logits, labels).sum().item()\n",
        "  f_s = f_score(predictions_text.logits,labels)\n",
        "  cumulative_fscore_text+=f_s.sum().item()\n",
        "  num_samples += texts.size(0)\n",
        "print(\"Image Accuracy: \", cumulative_accuracy_img/num_samples)\n",
        "print(\"Image Fscore: \", cumulative_fscore_img/num_samples)\n",
        "print(\"Text Accuracy: \", cumulative_accuracy_text/num_samples)\n",
        "print(\"Text Fscore: \", cumulative_fscore_text/num_samples)\n",
        "\n",
        "\n",
        "#get_accuracies(train_loader,cnn_model,model_text)\n",
        "\n"
      ],
      "execution_count": 23,
      "outputs": [
        {
          "output_type": "stream",
          "text": [
            "Image Accuracy:  0.7310680985404889\n",
            "Image Fscore:  0.21755414823642646\n",
            "Text Accuracy:  0.7259392335424363\n",
            "Text Fscore:  0.4294423646904869\n"
          ],
          "name": "stdout"
        }
      ]
    },
    {
      "cell_type": "code",
      "metadata": {
        "colab": {
          "base_uri": "https://localhost:8080/"
        },
        "id": "Q6DpdbViPLBa",
        "outputId": "9d0a983f-9402-47a9-860e-e6d7b22d96bd"
      },
      "source": [
        "def get_distribution(data_loader):\n",
        "  sum = torch.zeros(1,num_categories)\n",
        "  for (batch_id, (imgs, texts, text_masks, labels)) in enumerate(data_loader):\n",
        "    sum+=(labels.sum(dim=0))\n",
        "  print(sum)\n",
        "print(trainset.categories)\n",
        "print(\"Training Genres\")\n",
        "get_distribution(train_loader)\n",
        "print(\"Validation Genres\")\n",
        "get_distribution(val_loader)\n",
        "print(\"Testing Genres\")\n",
        "get_distribution(test_loader)\n"
      ],
      "execution_count": 25,
      "outputs": [
        {
          "output_type": "stream",
          "text": [
            "['Action', 'Adult', 'Adventure', 'Animation', 'Biography', 'Comedy', 'Crime', 'Documentary', 'Drama', 'Family', 'Fantasy', 'Film-Noir', 'History', 'Horror', 'Music', 'Musical', 'Mystery', 'News', 'Reality-TV', 'Romance', 'Sci-Fi', 'Short', 'Sport', 'Talk-Show', 'Thriller', 'War', 'Western']\n",
            "Training Genres\n",
            "tensor([[2.1550e+03, 0.0000e+00, 1.6110e+03, 5.8600e+02, 7.8800e+02, 5.1080e+03,\n",
            "         2.2930e+03, 1.2340e+03, 8.4240e+03, 9.7800e+02, 1.1620e+03, 2.0200e+02,\n",
            "         6.8000e+02, 1.6030e+03, 6.3400e+02, 5.0300e+02, 1.2310e+03, 3.9000e+01,\n",
            "         1.0000e+00, 3.2260e+03, 1.2120e+03, 2.8100e+02, 3.7900e+02, 2.0000e+00,\n",
            "         3.1130e+03, 8.0600e+02, 4.2300e+02]])\n",
            "Validation Genres\n",
            "tensor([[ 351.,    3.,  278.,  105.,  144.,  873.,  382.,  219., 1401.,  172.,\n",
            "          186.,   34.,  118.,  275.,  100.,   85.,  209.,    6.,    0.,  548.,\n",
            "          193.,   48.,   64.,    0.,  512.,  128.,   72.]])\n",
            "Testing Genres\n",
            "tensor([[1.0440e+03, 1.0000e+00, 8.2100e+02, 3.0600e+02, 4.1100e+02, 2.6110e+03,\n",
            "         1.1630e+03, 6.2900e+02, 4.1420e+03, 5.1800e+02, 5.8500e+02, 1.0200e+02,\n",
            "         3.4500e+02, 8.2500e+02, 3.1100e+02, 2.5300e+02, 6.1700e+02, 1.9000e+01,\n",
            "         0.0000e+00, 1.5900e+03, 5.8600e+02, 1.4200e+02, 1.9100e+02, 0.0000e+00,\n",
            "         1.5670e+03, 4.0100e+02, 2.1000e+02]])\n"
          ],
          "name": "stdout"
        }
      ]
    },
    {
      "cell_type": "code",
      "metadata": {
        "id": "bW-7r_KLSXPC"
      },
      "source": [
        "class MultimodalClassifier(torch.nn.Module):\n",
        "    def __init__(self):\n",
        "        super(MultimodalClassifier, self).__init__()\n",
        "        # Why being conservative? Let's just pick the deepest,\n",
        "        # biggest model available. This is a small dataset after all,\n",
        "        # and we have a GPU available thanks to Google Colab. \n",
        "        # Wide-Resnet101 has 101 layers deep and double the width of the regular\n",
        "        # Resnet-101 model.\n",
        "        # ResNext 101 is also incredibly large and intensive.\n",
        "        num_categories = 27\n",
        "        self.combine_linear = torch.nn.Linear(num_categories*2, num_categories)\n",
        "        #self.combine_linear_2 = torch.nn.Linear(num_categories*2, num_categories*2)\n",
        "        #self.combine_linear_3 = torch.nn.Linear(num_categories*2, num_categories)\n",
        "\n",
        "\n",
        "    def forward(self, image_out, text_out):\n",
        "        # I don't want to tune the parameters.\n",
        "        # I tried tuning but didn't work better so disabling gradients\n",
        "        # and putting the pretrained network in eval mode.\n",
        "        #with torch.no_grad():\n",
        "        #    self.pretrained.eval()\n",
        "        #y = torch.sigmoid(self.combine_linear(torch.cat( (image_out,text_out),dim=1 )))\n",
        "        #a = torch.sigmoid(self.combine_linear_2(y))\n",
        "        #b = self.combine_linear_3(a)\n",
        "        y = self.combine_linear(torch.cat( (image_out,text_out),dim=1 ))\n",
        "        return y"
      ],
      "execution_count": 53,
      "outputs": []
    },
    {
      "cell_type": "code",
      "metadata": {
        "colab": {
          "base_uri": "https://localhost:8080/"
        },
        "id": "bEE2tlL6WgD3",
        "outputId": "0cd9ff14-127f-4be5-8c8f-16d25b87b2fd"
      },
      "source": [
        "from livelossplot import PlotLosses\n",
        "from transformers import AdamW  # optimizer that comes with this library.\n",
        "from transformers import get_linear_schedule_with_warmup\n",
        "num_epochs = 20\n",
        "cnn_model.eval()\n",
        "model_text.eval()\n",
        "multi_model = MultimodalClassifier()\n",
        "multi_model.to(device)\n",
        "optimizer = AdamW(multi_model.parameters(), lr = 2e-5, eps = 1e-8)\n",
        "total_steps = len(train_loader) * num_epochs\n",
        "scheduler = get_linear_schedule_with_warmup(\n",
        "    optimizer, num_warmup_steps = 0, num_training_steps = total_steps)\n",
        "\n",
        "cost_function = nn.BCEWithLogitsLoss(reduction = 'none')\n",
        "\n",
        "_, (imgs, texts, text_masks, labels) = next(enumerate(val_loader))\n",
        "multi_model.eval()\n",
        "imgs = imgs.cuda()\n",
        "texts = texts.cuda()\n",
        "text_masks = text_masks.cuda()\n",
        "labels = labels.cuda()\n",
        "predictions_text = model_text(texts, text_masks)\n",
        "predictions_image = cnn_model(imgs)\n",
        "predicted = multi_model(predictions_image, predictions_text.logits)\n",
        "print(predicted.shape)"
      ],
      "execution_count": 56,
      "outputs": [
        {
          "output_type": "stream",
          "text": [
            "torch.Size([10, 27])\n"
          ],
          "name": "stdout"
        }
      ]
    },
    {
      "cell_type": "code",
      "metadata": {
        "id": "LK_q5B1nWIp0"
      },
      "source": [
        "!pip -q install livelossplot"
      ],
      "execution_count": 34,
      "outputs": []
    },
    {
      "cell_type": "code",
      "metadata": {
        "colab": {
          "base_uri": "https://localhost:8080/",
          "height": 1000
        },
        "id": "sfP3aEGGU9YW",
        "outputId": "eab97784-fe0a-484a-f825-2c543e340ad2"
      },
      "source": [
        "# Training Loop. \n",
        "best_accuracy = 0\n",
        "liveloss = PlotLosses(); current_step = 0\n",
        "for epoch in range(0, num_epochs):\n",
        "    print(epoch)\n",
        "    cumulative_accuracy = 0\n",
        "    cumulative_loss = 0\n",
        "    num_samples = 0\n",
        "    logs = {}\n",
        "    multi_model.train()\n",
        "    for (batch_id, (imgs, texts, text_masks, labels)) in enumerate(train_loader):\n",
        "        # Move to GPU.\n",
        "        imgs = imgs.cuda()\n",
        "        texts = texts.cuda()\n",
        "        text_masks = text_masks.cuda()\n",
        "        labels = labels.cuda()\n",
        "\n",
        "        # Compute predictions.\n",
        "        \n",
        "        predictions_text = model_text(texts, text_masks)\n",
        "        predictions_image = cnn_model(imgs)\n",
        "        predicted = multi_model(predictions_image, predictions_text.logits)\n",
        "        # Compute loss.\n",
        "        loss = cost_function(predicted, labels)\n",
        "\n",
        "        # Compute cumulative loss and top-5 accuracy.\n",
        "        cumulative_loss += loss.data.sum().item()\n",
        "        cumulative_accuracy += top5_accuracy(predicted, labels).sum().item()\n",
        "        num_samples += texts.size(0)\n",
        "\n",
        "        # Backpropagation and SGD update step.\n",
        "        multi_model.zero_grad()\n",
        "        loss.mean().backward()\n",
        "        optimizer.step()\n",
        "        \n",
        "        if batch_id % 100 == 0:\n",
        "            print(epoch, batch_id, cumulative_accuracy / num_samples)\n",
        "            logs['loss'] = cumulative_loss / num_samples\n",
        "            logs['accuracy'] = cumulative_accuracy / num_samples\n",
        "            liveloss.update(logs)\n",
        "            liveloss.send()\n",
        "            current_step += 1\n",
        "    \n",
        "    cumulative_accuracy = 0\n",
        "    cumulative_loss = 0\n",
        "    num_samples = 0\n",
        "    multi_model.eval()\n",
        "    for (batch_id, (imgs, texts, text_masks, labels)) in enumerate(val_loader):\n",
        "        # Move to GPU.\n",
        "        imgs = imgs.cuda()\n",
        "        texts = texts.cuda()\n",
        "        text_masks = text_masks.cuda()\n",
        "        labels = labels.cuda()\n",
        "\n",
        "        # Compute predictions.\n",
        "        predictions_text = model_text(texts, text_masks)\n",
        "        predictions_image = cnn_model(imgs)\n",
        "        predicted = multi_model(predictions_image, predictions_text.logits)\n",
        "\n",
        "        # Compute loss.\n",
        "        loss = cost_function(predicted, labels)\n",
        "\n",
        "        # Compute cumulative loss and top-5 accuracy.\n",
        "        cumulative_loss += loss.data.sum().item()\n",
        "        cumulative_accuracy += top5_accuracy(predicted, labels).sum().item()\n",
        "        num_samples += texts.size(0)\n",
        "\n",
        "        if (1 + batch_id) % 100 == 0:\n",
        "            logs['val_loss'] = cumulative_loss / num_samples\n",
        "            logs['val_accuracy'] = cumulative_accuracy / num_samples    \n",
        "            liveloss.update(logs, current_step)\n",
        "            liveloss.send()\n",
        "\n",
        "    # Advance scheduler.\n",
        "    if scheduler != -1:\n",
        "        scheduler.step()\n",
        "\n",
        "    # Save the parameters for the best accuracy on the validation set so far.\n",
        "    if logs['val_accuracy'] > best_accuracy:\n",
        "        best_accuracy = logs['val_accuracy']\n",
        "        torch.save(multi_model.state_dict(), 'best_model_so_far_multimodal.pth') "
      ],
      "execution_count": 57,
      "outputs": [
        {
          "output_type": "display_data",
          "data": {
            "image/png": "[encoded data removed]",
            "text/plain": [
              "<Figure size 864x576 with 2 Axes>"
            ]
          },
          "metadata": {
            "tags": [],
            "needs_background": "light"
          }
        },
        {
          "output_type": "stream",
          "text": [
            "accuracy\n",
            "\ttraining         \t (min:    0.105, max:    0.788, cur:    0.745)\n",
            "\tvalidation       \t (min:    0.725, max:    0.782, cur:    0.725)\n",
            "Loss\n",
            "\ttraining         \t (min:    4.913, max:   19.860, cur:    5.608)\n",
            "\tvalidation       \t (min:    6.289, max:    7.221, cur:    6.289)\n"
          ],
          "name": "stdout"
        },
        {
          "output_type": "error",
          "ename": "KeyboardInterrupt",
          "evalue": "ignored",
          "traceback": [
            "\u001b[0;31m---------------------------------------------------------------------------\u001b[0m",
            "\u001b[0;31mKeyboardInterrupt\u001b[0m                         Traceback (most recent call last)",
            "\u001b[0;32m<ipython-input-57-660fe2f28bfd>\u001b[0m in \u001b[0;36m<module>\u001b[0;34m()\u001b[0m\n\u001b[1;32m     31\u001b[0m         \u001b[0;31m# Backpropagation and SGD update step.\u001b[0m\u001b[0;34m\u001b[0m\u001b[0;34m\u001b[0m\u001b[0;34m\u001b[0m\u001b[0m\n\u001b[1;32m     32\u001b[0m         \u001b[0mmulti_model\u001b[0m\u001b[0;34m.\u001b[0m\u001b[0mzero_grad\u001b[0m\u001b[0;34m(\u001b[0m\u001b[0;34m)\u001b[0m\u001b[0;34m\u001b[0m\u001b[0;34m\u001b[0m\u001b[0m\n\u001b[0;32m---> 33\u001b[0;31m         \u001b[0mloss\u001b[0m\u001b[0;34m.\u001b[0m\u001b[0mmean\u001b[0m\u001b[0;34m(\u001b[0m\u001b[0;34m)\u001b[0m\u001b[0;34m.\u001b[0m\u001b[0mbackward\u001b[0m\u001b[0;34m(\u001b[0m\u001b[0;34m)\u001b[0m\u001b[0;34m\u001b[0m\u001b[0;34m\u001b[0m\u001b[0m\n\u001b[0m\u001b[1;32m     34\u001b[0m         \u001b[0moptimizer\u001b[0m\u001b[0;34m.\u001b[0m\u001b[0mstep\u001b[0m\u001b[0;34m(\u001b[0m\u001b[0;34m)\u001b[0m\u001b[0;34m\u001b[0m\u001b[0;34m\u001b[0m\u001b[0m\n\u001b[1;32m     35\u001b[0m \u001b[0;34m\u001b[0m\u001b[0m\n",
            "\u001b[0;32m/usr/local/lib/python3.6/dist-packages/torch/tensor.py\u001b[0m in \u001b[0;36mbackward\u001b[0;34m(self, gradient, retain_graph, create_graph)\u001b[0m\n\u001b[1;32m    219\u001b[0m                 \u001b[0mretain_graph\u001b[0m\u001b[0;34m=\u001b[0m\u001b[0mretain_graph\u001b[0m\u001b[0;34m,\u001b[0m\u001b[0;34m\u001b[0m\u001b[0;34m\u001b[0m\u001b[0m\n\u001b[1;32m    220\u001b[0m                 create_graph=create_graph)\n\u001b[0;32m--> 221\u001b[0;31m         \u001b[0mtorch\u001b[0m\u001b[0;34m.\u001b[0m\u001b[0mautograd\u001b[0m\u001b[0;34m.\u001b[0m\u001b[0mbackward\u001b[0m\u001b[0;34m(\u001b[0m\u001b[0mself\u001b[0m\u001b[0;34m,\u001b[0m \u001b[0mgradient\u001b[0m\u001b[0;34m,\u001b[0m \u001b[0mretain_graph\u001b[0m\u001b[0;34m,\u001b[0m \u001b[0mcreate_graph\u001b[0m\u001b[0;34m)\u001b[0m\u001b[0;34m\u001b[0m\u001b[0;34m\u001b[0m\u001b[0m\n\u001b[0m\u001b[1;32m    222\u001b[0m \u001b[0;34m\u001b[0m\u001b[0m\n\u001b[1;32m    223\u001b[0m     \u001b[0;32mdef\u001b[0m \u001b[0mregister_hook\u001b[0m\u001b[0;34m(\u001b[0m\u001b[0mself\u001b[0m\u001b[0;34m,\u001b[0m \u001b[0mhook\u001b[0m\u001b[0;34m)\u001b[0m\u001b[0;34m:\u001b[0m\u001b[0;34m\u001b[0m\u001b[0;34m\u001b[0m\u001b[0m\n",
            "\u001b[0;32m/usr/local/lib/python3.6/dist-packages/torch/autograd/__init__.py\u001b[0m in \u001b[0;36mbackward\u001b[0;34m(tensors, grad_tensors, retain_graph, create_graph, grad_variables)\u001b[0m\n\u001b[1;32m    130\u001b[0m     Variable._execution_engine.run_backward(\n\u001b[1;32m    131\u001b[0m         \u001b[0mtensors\u001b[0m\u001b[0;34m,\u001b[0m \u001b[0mgrad_tensors_\u001b[0m\u001b[0;34m,\u001b[0m \u001b[0mretain_graph\u001b[0m\u001b[0;34m,\u001b[0m \u001b[0mcreate_graph\u001b[0m\u001b[0;34m,\u001b[0m\u001b[0;34m\u001b[0m\u001b[0;34m\u001b[0m\u001b[0m\n\u001b[0;32m--> 132\u001b[0;31m         allow_unreachable=True)  # allow_unreachable flag\n\u001b[0m\u001b[1;32m    133\u001b[0m \u001b[0;34m\u001b[0m\u001b[0m\n\u001b[1;32m    134\u001b[0m \u001b[0;34m\u001b[0m\u001b[0m\n",
            "\u001b[0;31mKeyboardInterrupt\u001b[0m: "
          ]
        }
      ]
    },
    {
      "cell_type": "code",
      "metadata": {
        "colab": {
          "base_uri": "https://localhost:8080/"
        },
        "id": "kZQUB0nbqKDL",
        "outputId": "948d1bbb-45b0-467b-8a3f-bf002dfcfca9"
      },
      "source": [
        "cnn_model.eval()\n",
        "model_text.eval()\n",
        "multi_model.eval()\n",
        "cnn_model.to(device)\n",
        "model_text.to(device)\n",
        "multi_model.to(device)\n",
        "cumulative_accuracy = 0\n",
        "cumulative_fscore = 0\n",
        "\n",
        "\n",
        "num_samples = 0\n",
        "for (batch_id, (imgs, texts, text_masks, labels)) in enumerate(test_loader):\n",
        "  imgs = imgs.cuda()\n",
        "  texts = texts.cuda()\n",
        "  text_masks = text_masks.cuda()\n",
        "  labels = labels.cuda()\n",
        "\n",
        "  predictions_text = model_text(texts, text_masks)\n",
        "  predictions_image = cnn_model(imgs)\n",
        "  predicted = multi_model(predictions_image, predictions_text.logits)\n",
        "  cumulative_accuracy += top5_accuracy(predicted, labels).sum().item()\n",
        "  f_s = f_score(predicted,labels)\n",
        "  cumulative_fscore+=f_s.sum().item()\n",
        "  num_samples += texts.size(0)\n",
        "print(\"MultiModal Accuracy: \", cumulative_accuracy/num_samples)\n",
        "print(\"MultiModal Fscore: \", cumulative_fscore/num_samples)"
      ],
      "execution_count": 59,
      "outputs": [
        {
          "output_type": "stream",
          "text": [
            "MultiModal Accuracy:  0.7275035368783274\n",
            "MultiModal Fscore:  0.3072854350516239\n"
          ],
          "name": "stdout"
        }
      ]
    }
  ]
}