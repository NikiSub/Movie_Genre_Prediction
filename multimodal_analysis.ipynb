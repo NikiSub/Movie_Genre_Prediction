{
  "nbformat": 4,
  "nbformat_minor": 0,
  "metadata": {
    "kernelspec": {
      "display_name": "PyCharm (MultiModal-Movie-Genre-Analysis)",
      "language": "python",
      "name": "pycharm-90cbde0b"
    },
    "language_info": {
      "codemirror_mode": {
        "name": "ipython",
        "version": 3
      },
      "file_extension": ".py",
      "mimetype": "text/x-python",
      "name": "python",
      "nbconvert_exporter": "python",
      "pygments_lexer": "ipython3",
      "version": "3.7.7"
    },
    "colab": {
      "name": "multimodal_analysis.ipynb",
      "provenance": [],
      "collapsed_sections": []
    },
    "accelerator": "GPU"
  },
  "cells": [
    {
      "cell_type": "markdown",
      "metadata": {
        "id": "PmzejPg62ikF"
      },
      "source": [
        "### Training Gated MultiModal Unit"
      ]
    },
    {
      "cell_type": "markdown",
      "metadata": {
        "id": "pO3BWcty2ikF"
      },
      "source": [
        "###### load pretrained BERT model"
      ]
    },
    {
      "cell_type": "code",
      "metadata": {
        "colab": {
          "base_uri": "https://localhost:8080/"
        },
        "id": "7kzYtj9DLKlK",
        "outputId": "205311d2-6a8d-4310-d8c3-9e1d4c53ed67"
      },
      "source": [
        "!wget -nc http://www.cs.virginia.edu/~vicente/vislang/mmimdb-256.tar.gz\n",
        "!tar xf mmimdb-256.tar.gz -C ./data/mmimdb-256/"
      ],
      "execution_count": null,
      "outputs": [
        {
          "output_type": "stream",
          "text": [
            "--2020-12-03 19:12:03--  http://www.cs.virginia.edu/~vicente/vislang/mmimdb-256.tar.gz\n",
            "Resolving www.cs.virginia.edu (www.cs.virginia.edu)... 128.143.67.11\n",
            "Connecting to www.cs.virginia.edu (www.cs.virginia.edu)|128.143.67.11|:80... connected.\n",
            "HTTP request sent, awaiting response... 200 OK\n",
            "Length: 643479473 (614M) [application/x-gzip]\n",
            "Saving to: ‘mmimdb-256.tar.gz’\n",
            "\n",
            "mmimdb-256.tar.gz   100%[===================>] 613.67M   106MB/s    in 5.8s    \n",
            "\n",
            "2020-12-03 19:12:09 (105 MB/s) - ‘mmimdb-256.tar.gz’ saved [643479473/643479473]\n",
            "\n"
          ],
          "name": "stdout"
        }
      ]
    },
    {
      "cell_type": "code",
      "metadata": {
        "id": "UG8ZLHsZ2ikF"
      },
      "source": [
        "!pip install livelossplot --quiet\n",
        "!pip -q install transformers"
      ],
      "execution_count": 1,
      "outputs": []
    },
    {
      "cell_type": "code",
      "metadata": {
        "id": "VkbOF-ZV2ikF"
      },
      "source": [
        "import torch, os, json\n",
        "import matplotlib.pyplot as plt\n",
        "from transformers import BertTokenizer\n",
        "from transformers import BertForSequenceClassification\n",
        "from PIL import Image\n",
        "import torch.nn as nn\n",
        "import torch.nn.functional as F"
      ],
      "execution_count": 2,
      "outputs": []
    },
    {
      "cell_type": "markdown",
      "metadata": {
        "id": "ZE7wkB5CxUfW"
      },
      "source": [
        "### Load Pretrained Bert Model"
      ]
    },
    {
      "cell_type": "code",
      "metadata": {
        "colab": {
          "base_uri": "https://localhost:8080/"
        },
        "id": "qRweBu7M2ikF",
        "outputId": "896a86a0-479a-4cbd-d543-66b1dfc055a3"
      },
      "source": [
        "text_model = BertForSequenceClassification.from_pretrained('bert-base-uncased', \n",
        "    num_labels = 27,  output_attentions = False, \n",
        "    output_hidden_states = False);"
      ],
      "execution_count": 3,
      "outputs": [
        {
          "output_type": "stream",
          "text": [
            "Some weights of the model checkpoint at bert-base-uncased were not used when initializing BertForSequenceClassification: ['cls.predictions.bias', 'cls.predictions.transform.dense.weight', 'cls.predictions.transform.dense.bias', 'cls.predictions.decoder.weight', 'cls.seq_relationship.weight', 'cls.seq_relationship.bias', 'cls.predictions.transform.LayerNorm.weight', 'cls.predictions.transform.LayerNorm.bias']\n",
            "- This IS expected if you are initializing BertForSequenceClassification from the checkpoint of a model trained on another task or with another architecture (e.g. initializing a BertForSequenceClassification model from a BertForPreTraining model).\n",
            "- This IS NOT expected if you are initializing BertForSequenceClassification from the checkpoint of a model that you expect to be exactly identical (initializing a BertForSequenceClassification model from a BertForSequenceClassification model).\n",
            "Some weights of BertForSequenceClassification were not initialized from the model checkpoint at bert-base-uncased and are newly initialized: ['classifier.weight', 'classifier.bias']\n",
            "You should probably TRAIN this model on a down-stream task to be able to use it for predictions and inference.\n"
          ],
          "name": "stderr"
        }
      ]
    },
    {
      "cell_type": "code",
      "metadata": {
        "id": "goWyCZ5m2ors"
      },
      "source": [
        "text_model.cuda();"
      ],
      "execution_count": 4,
      "outputs": []
    },
    {
      "cell_type": "code",
      "metadata": {
        "colab": {
          "base_uri": "https://localhost:8080/"
        },
        "id": "llvYp8tg2ikG",
        "outputId": "a744e21c-506e-43a6-81a7-75fe91168edf"
      },
      "source": [
        "text_model.load_state_dict(torch.load('best_model_bert.pth'))"
      ],
      "execution_count": 5,
      "outputs": [
        {
          "output_type": "execute_result",
          "data": {
            "text/plain": [
              "<All keys matched successfully>"
            ]
          },
          "metadata": {
            "tags": []
          },
          "execution_count": 5
        }
      ]
    },
    {
      "cell_type": "markdown",
      "metadata": {
        "id": "HGowlcQtxdGs"
      },
      "source": [
        "### Load Pretrained Resnet "
      ]
    },
    {
      "cell_type": "code",
      "metadata": {
        "id": "JpU5BjA1x_va"
      },
      "source": [
        "\n",
        "from torchvision import models\n",
        "\n",
        "image_model = models.resnet18(pretrained=True) \n",
        "image_model.cuda()\n",
        "num_ftrs = image_model.fc.in_features\n",
        "image_model.fc = nn.Linear(num_ftrs, 27)"
      ],
      "execution_count": 6,
      "outputs": []
    },
    {
      "cell_type": "code",
      "metadata": {
        "id": "EfjdqgBgIwgg",
        "colab": {
          "base_uri": "https://localhost:8080/"
        },
        "outputId": "dd9c2087-612f-4e40-9faf-737e50bf9114"
      },
      "source": [
        "image_model.load_state_dict(torch.load('best_img_model.pth'))"
      ],
      "execution_count": 7,
      "outputs": [
        {
          "output_type": "execute_result",
          "data": {
            "text/plain": [
              "<All keys matched successfully>"
            ]
          },
          "metadata": {
            "tags": []
          },
          "execution_count": 7
        }
      ]
    },
    {
      "cell_type": "markdown",
      "metadata": {
        "id": "oBsfg7dAd9A5"
      },
      "source": [
        "Equations governing GMU are as follows: <br>\n",
        "$h_{v} = tanh(W_{v} \\cdot x_{})$ <br>\n",
        "$h_{t} = tanh(W_{t} \\cdot x_{t})$ <br>\n",
        "$z = \\sigma(W_{z} \\cdot[x_{v} \\cdot x_{t}])$ <br>\n",
        "$h = z \\ast h_{v} + (1 - z) \\ast h_{t}$ <br>\n",
        "$\\Theta = \\{W_{v}, W_{t}, W_{z}\\}$ <br>\n"
      ]
    },
    {
      "cell_type": "code",
      "metadata": {
        "id": "d58fFE-6GrmD"
      },
      "source": [
        "\n",
        "\n",
        "# used to find h_v and h_t\n",
        "class LinearClassifier(nn.Module):  \n",
        "  def __init__(self, encoding_size):\n",
        "    super(LinearClassifier, self).__init__()\n",
        "    self.linear = nn.Linear(encoding_size, encoding_size)\n",
        "\n",
        "  def forward(self, x):\n",
        "    x = self.linear(x)\n",
        "    x = torch.tanh(x)\n",
        "    return x\n"
      ],
      "execution_count": 8,
      "outputs": []
    },
    {
      "cell_type": "code",
      "metadata": {
        "id": "ZnodpjBXdkLm"
      },
      "source": [
        "class LinearCombine(nn.Module):\n",
        "  def __init__(self, encoding_size):\n",
        "    super().__init__()\n",
        "    self.linear = nn.Linear(encoding_size, 27) # 27 is the number of genres\n",
        "\n",
        "    self.sigmoid = nn.Sigmoid()\n",
        "\n",
        "  def forward(self, x, y):\n",
        "    x = self.linear(torch.cat((x, y), dim=1))\n",
        "    x = self.sigmoid(x)\n",
        "    return x\n"
      ],
      "execution_count": 9,
      "outputs": []
    },
    {
      "cell_type": "code",
      "metadata": {
        "id": "-TPGQPOMg-q7"
      },
      "source": [
        "class Gated_MultiModal_Unit():\n",
        "\n",
        "  def __init__(self, img_model, text_model):\n",
        "    super().__init__()\n",
        "    self.bert_model = text_model\n",
        "    self.resnet_model = img_model\n",
        "    self.hv_gate = LinearClassifier(27) # num of categories\n",
        "    self.ht_gate = LinearClassifier(27) # num of categories\n",
        "    self.z_gate = LinearCombine(54) # 2* num of categories, for data fusion\n",
        "\n",
        "\n",
        "\n",
        "  def forward(self, mode,imgs, texts, text_masks, labels):\n",
        "    if (mode == 'train'):\n",
        "      self.hv_gate.train()\n",
        "      self.ht_gate.train()\n",
        "      self.z_gate.train()\n",
        "\n",
        "    else:\n",
        "      self.hv_gate.eval()\n",
        "      self.ht_gate.eval()\n",
        "      self.z_gate.eval()\n",
        "\n",
        "    self.resnet_model.eval()\n",
        "    self.bert_model.eval()\n",
        "    self.resnet_model.cuda()\n",
        "    self.bert_model.cuda()\n",
        "    img_pred = self.resnet_model(imgs)\n",
        "    text_pred = self.bert_model(texts, text_masks).logits\n",
        "\n",
        "    \n",
        "    self.hv_gate.cuda()\n",
        "    self.ht_gate.cuda()\n",
        "    self.z_gate.cuda()\n",
        "\n",
        "\n",
        "    h_v = self.hv_gate(img_pred)\n",
        "    h_t = self.ht_gate(text_pred)\n",
        "\n",
        "    z = self.z_gate(img_pred, text_pred)\n",
        "\n",
        "    h = (torch.mul(z, h_v)) + (torch.mul((1-z), h_t))\n",
        "\n",
        "    predictions = h\n",
        "    return predictions\n",
        "\n",
        "\n"
      ],
      "execution_count": 10,
      "outputs": []
    },
    {
      "cell_type": "code",
      "metadata": {
        "id": "t1pAD8y9LXCb",
        "colab": {
          "base_uri": "https://localhost:8080/"
        },
        "outputId": "39d94085-3824-43fd-ec4f-b8db349be74c"
      },
      "source": [
        "class MovieDataset(torch.utils.data.Dataset):\n",
        "    def __init__(self, folder = 'data/mmimdb-256/dataset-resized-256max', split = 'dev',\n",
        "                 image_transform = None):\n",
        "        self.json_dir = os.path.join(folder, split, 'metadata')\n",
        "        self.image_dir = os.path.join(folder, split, 'images')\n",
        "        self.image_transform = image_transform\n",
        "        self.tokenizer = BertTokenizer.from_pretrained('bert-base-uncased')\n",
        "\n",
        "        # Category definitions of movies.\n",
        "        self.categories = ['Action', 'Adult', 'Adventure', 'Animation', 'Biography', \n",
        "                           'Comedy', 'Crime', 'Documentary', 'Drama', \n",
        "                           'Family', 'Fantasy', 'Film-Noir', 'History', \n",
        "                           'Horror', 'Music', 'Musical', 'Mystery', 'News', \n",
        "                           'Reality-TV', 'Romance', 'Sci-Fi', 'Short', \n",
        "                           'Sport', 'Talk-Show', 'Thriller', 'War', 'Western']\n",
        "        self.categories2ids = {category: id for (id, category) \n",
        "                               in enumerate(self.categories)}\n",
        "\n",
        "        # Load JSON files.\n",
        "        print('Loading %s ...' % self.json_dir, end = '')\n",
        "        fdir = os.listdir(self.json_dir)\n",
        "        self.metadata = [(fname[:-5], json.load(open(os.path.join(self.json_dir, fname)))) \n",
        "                     for fname in sorted(fdir) if not fname.startswith('.')]\n",
        "        print(' finished')\n",
        "        print(self.metadata)\n",
        "        # Pre-tokenizing all sentences.\n",
        "        print('Tokenizing...', end = '')\n",
        "        self.tokenized_plots = list()\n",
        "        for i in range(0, len(self.metadata)):\n",
        "            text = self.metadata[i][1]['plot'][0]\n",
        "            encoded_text = self.tokenizer.encode_plus(\n",
        "                text, add_special_tokens = True, truncation = True, \n",
        "                max_length = 256, padding = 'max_length',\n",
        "                return_attention_mask = True,\n",
        "                return_tensors = 'pt')\n",
        "            self.tokenized_plots.append(encoded_text)\n",
        "        print(' finished')\n",
        "            \n",
        "    def __getitem__(self, index: int):\n",
        "        # Load images on the fly.\n",
        "        filename, movie_data = self.metadata[index]\n",
        "        img_path = os.path.join(self.image_dir, filename + '.jpeg')\n",
        "        image = Image.open(img_path).convert('RGB')\n",
        "        text = self.tokenized_plots[index]['input_ids'][0]\n",
        "        text_mask = self.tokenized_plots[index]['attention_mask'][0]\n",
        "        genres = movie_data['genres']\n",
        "\n",
        "        if self.image_transform: image = self.image_transform(image)\n",
        "\n",
        "        # Encode labels in a binary vector.\n",
        "        label_vector = torch.zeros((len(self.categories)))\n",
        "        label_ids = [self.categories2ids[cat] for cat in genres]\n",
        "        label_vector[label_ids] = 1\n",
        "\n",
        "        return image, text, text_mask, label_vector\n",
        "\n",
        "    def load_image_only(self, index: int):\n",
        "        filename, movie_data = self.metadata[index]\n",
        "        img_path = os.path.join(self.image_dir, filename + '.jpeg')\n",
        "        image = Image.open(img_path).convert('RGB')\n",
        "        return image\n",
        "\n",
        "    def get_metadata(self, index: int):\n",
        "        _, movie_data = self.metadata[index]\n",
        "        return movie_data\n",
        "\n",
        "    def __len__(self):\n",
        "        return len(self.metadata)\n",
        "\n",
        "val_data = MovieDataset(split = 'dev')\n",
        "print('Data size: %d samples' % len(val_data))"
      ],
      "execution_count": 11,
      "outputs": [
        {
          "output_type": "stream",
          "text": [
            "Loading data/mmimdb-256/dataset-resized-256max/dev/metadata ..."
          ],
          "name": "stdout"
        },
        {
          "output_type": "stream",
          "text": [
            "IOPub data rate exceeded.\n",
            "The notebook server will temporarily stop sending output\n",
            "to the client in order to avoid crashing it.\n",
            "To change this limit, set the config variable\n",
            "`--NotebookApp.iopub_data_rate_limit`.\n",
            "\n",
            "Current values:\n",
            "NotebookApp.iopub_data_rate_limit=1000000.0 (bytes/sec)\n",
            "NotebookApp.rate_limit_window=3.0 (secs)\n",
            "\n"
          ],
          "name": "stderr"
        },
        {
          "output_type": "stream",
          "text": [
            " finished\n",
            "Data size: 2608 samples\n"
          ],
          "name": "stdout"
        }
      ]
    },
    {
      "cell_type": "code",
      "metadata": {
        "id": "IzfE0W7sK4h0",
        "colab": {
          "base_uri": "https://localhost:8080/"
        },
        "outputId": "891c981f-c8a9-4a69-ef63-5f91f38b284d"
      },
      "source": [
        "# Let's setup the data loaders and preprocessing.\n",
        "import torchvision.transforms as transforms\n",
        "\n",
        "# Batch size is a liming factor on constrained resources.\n",
        "# only GPUs with a large memory can hold large batches.\n",
        "batch_size = 10\n",
        "\n",
        "image_transform = transforms.Compose([\n",
        "        transforms.Resize(256),\n",
        "        transforms.CenterCrop((224, 224)),\n",
        "        transforms.ToTensor(),\n",
        "        transforms.Normalize(mean=[0.485, 0.456, 0.406],\n",
        "                             std=[0.229, 0.224, 0.225])])\n",
        "\n",
        "trainset = MovieDataset(split = 'train', image_transform = image_transform)\n",
        "valset = MovieDataset(split = 'dev', image_transform = image_transform)\n",
        "\n",
        "train_loader = torch.utils.data.DataLoader(trainset, \n",
        "                                           batch_size = batch_size, \n",
        "                                           shuffle = True, \n",
        "                                           pin_memory = True,\n",
        "                                           num_workers = 4)\n",
        "val_loader = torch.utils.data.DataLoader(valset, \n",
        "                                         batch_size = batch_size, \n",
        "                                         shuffle = False)"
      ],
      "execution_count": 12,
      "outputs": [
        {
          "output_type": "stream",
          "text": [
            "Loading data/mmimdb-256/dataset-resized-256max/train/metadata ..."
          ],
          "name": "stdout"
        },
        {
          "output_type": "stream",
          "text": [
            "IOPub data rate exceeded.\n",
            "The notebook server will temporarily stop sending output\n",
            "to the client in order to avoid crashing it.\n",
            "To change this limit, set the config variable\n",
            "`--NotebookApp.iopub_data_rate_limit`.\n",
            "\n",
            "Current values:\n",
            "NotebookApp.iopub_data_rate_limit=1000000.0 (bytes/sec)\n",
            "NotebookApp.rate_limit_window=3.0 (secs)\n",
            "\n"
          ],
          "name": "stderr"
        },
        {
          "output_type": "stream",
          "text": [
            " finished\n",
            "Loading data/mmimdb-256/dataset-resized-256max/dev/metadata ..."
          ],
          "name": "stdout"
        },
        {
          "output_type": "stream",
          "text": [
            "IOPub data rate exceeded.\n",
            "The notebook server will temporarily stop sending output\n",
            "to the client in order to avoid crashing it.\n",
            "To change this limit, set the config variable\n",
            "`--NotebookApp.iopub_data_rate_limit`.\n",
            "\n",
            "Current values:\n",
            "NotebookApp.iopub_data_rate_limit=1000000.0 (bytes/sec)\n",
            "NotebookApp.rate_limit_window=3.0 (secs)\n",
            "\n"
          ],
          "name": "stderr"
        },
        {
          "output_type": "stream",
          "text": [
            " finished\n"
          ],
          "name": "stdout"
        }
      ]
    },
    {
      "cell_type": "code",
      "metadata": {
        "id": "fL0v8hMWMCgE"
      },
      "source": [
        "gmu = Gated_MultiModal_Unit(image_model, text_model)"
      ],
      "execution_count": 13,
      "outputs": []
    },
    {
      "cell_type": "code",
      "metadata": {
        "id": "kb1OlJaTbmIW"
      },
      "source": [
        "def top5_accuracy(predicted, labels):\n",
        "    sorted_vals, sorted_ids = \\\n",
        "        predicted.data.sigmoid().sort(dim = 1, descending = True)\n",
        "    pred_vals = sorted_vals[:, :5] > 0.5 # Anything with sigmoid > 0.5 is 1.\n",
        "    true_vals = labels.data.gather(1, sorted_ids[:, :5]) # Find true values.\n",
        "    return (pred_vals == true_vals).sum(dim = 1) / 5.0\n",
        "\n",
        "def f_score(predicted, labels):\n",
        "    #print(predicted)\n",
        "    #print(predicted.data.sigmoid())\n",
        "    pred_vals = predicted.data.sigmoid() > 0.5\n",
        "    #print(pred_vals)\n",
        "    #print(labels)\n",
        "    true_positive = ((pred_vals==1) & (pred_vals == labels)).sum(dim = 1)\n",
        "    false_positive = ((pred_vals==1) & (pred_vals != labels)).sum(dim = 1)\n",
        "    false_negative = ((pred_vals==0) & (pred_vals != labels)).sum(dim = 1)\n",
        "    f_score = true_positive/(true_positive+(false_positive+false_negative)/2)\n",
        "    return f_score"
      ],
      "execution_count": 14,
      "outputs": []
    },
    {
      "cell_type": "code",
      "metadata": {
        "id": "cvRJD5lBK5zJ"
      },
      "source": [
        "from transformers import AdamW  # optimizer that comes with this library.\n",
        "from transformers import get_linear_schedule_with_warmup\n",
        "from livelossplot import PlotLosses\n",
        "import torch.nn as nn\n",
        "\n",
        "num_epochs = 4\n",
        "\n",
        "total_steps = len(train_loader) * num_epochs\n",
        "cost_function = nn.BCEWithLogitsLoss(reduction = 'none')\n",
        "best_accuracy = 0\n",
        "\n",
        "# Training Loop. \n",
        "def train_gmu(model, optimizer, criterion,num_epochs=4):\n",
        "  best_accuracy = 0\n",
        "  liveloss = PlotLosses(); current_step = 0\n",
        "  for epoch in range(0, num_epochs):\n",
        "      cumulative_accuracy = 0\n",
        "      cumulative_fscore = 0\n",
        "      cumulative_loss = 0\n",
        "      num_samples = 0\n",
        "      logs = {}\n",
        "      # model.train()\n",
        "      # training loop\n",
        "      for (batch_id, (imgs, texts, text_masks, labels)) in enumerate(train_loader):\n",
        "          optimizer.zero_grad()\n",
        "          # Move to GPU.\n",
        "          if(torch.cuda.is_available()):\n",
        "            imgs = imgs.cuda()\n",
        "            texts = texts.cuda()\n",
        "            text_masks = text_masks.cuda()\n",
        "            labels = labels.cuda()\n",
        "\n",
        "          # Compute predictions.\n",
        "          predicted = model.forward('train', imgs, texts, text_masks, labels)\n",
        "          loss = criterion(predicted, labels)\n",
        "          loss.mean().backward()\n",
        "          optimizer.step() \n",
        "          cumulative_accuracy += top5_accuracy(predicted, labels).sum().item()\n",
        "          cumulative_loss += loss.data.sum().item()\n",
        "          f_s = f_score(predicted, labels)\n",
        "          cumulative_fscore +=f_s.sum().item()\n",
        "          num_samples += texts.size(0)\n",
        "          # print(\"Multimodal Accuracy: \", cumulative_accuracy/num_samples)\n",
        "          # print(\"Multimodal Fscore: \", cumulative_fscore/num_samples)\n",
        "\n",
        "          if batch_id % 100 == 0:\n",
        "            print(epoch, batch_id, cumulative_accuracy / num_samples)\n",
        "            logs['loss'] = cumulative_loss / num_samples\n",
        "            logs['accuracy'] = cumulative_accuracy / num_samples\n",
        "            logs['f_score'] = cumulative_fscore/num_samples\n",
        "            liveloss.update(logs)\n",
        "            liveloss.send()\n",
        "            current_step += 1\n",
        "\n",
        "      # validation loop\n",
        "      cumulative_accuracy = 0\n",
        "      cumulative_fscore = 0\n",
        "      cumulative_loss = 0\n",
        "      num_samples = 0\n",
        "      for (batch_id, (imgs, texts, text_masks, labels)) in enumerate(train_loader):\n",
        "          optimizer.zero_grad()\n",
        "          # Move to GPU.\n",
        "          if(torch.cuda.is_available()):\n",
        "            imgs = imgs.cuda()\n",
        "            texts = texts.cuda()\n",
        "            text_masks = text_masks.cuda()\n",
        "            labels = labels.cuda()\n",
        "\n",
        "          # Compute predictions.\n",
        "          predicted = model.forward('validation', imgs, texts, text_masks, labels)\n",
        "          loss = criterion(predicted, labels)\n",
        "          cumulative_accuracy += top5_accuracy(predicted, labels).sum().item()\n",
        "          cumulative_loss += loss.data.sum().item()\n",
        "          f_s = f_score(predicted, labels)\n",
        "          cumulative_fscore +=f_s.sum().item()\n",
        "\n",
        "          num_samples += texts.size(0)\n",
        "          # print(\"Multimodal Accuracy: \", cumulative_accuracy/num_samples)\n",
        "          # print(\"Multimodal Fscore: \", cumulative_fscore/num_samples)\n",
        "          if (1 + batch_id) % 100 == 0:\n",
        "            logs['val_loss'] = cumulative_loss / num_samples\n",
        "            logs['val_accuracy'] = cumulative_accuracy / num_samples \n",
        "            logs['val_f_score']  = cumulative_fscore/num_samples\n",
        "            liveloss.update(logs, current_step)\n",
        "            liveloss.send()\n",
        "            current_step += 1\n",
        "\n",
        "\n",
        "      if logs['val_accuracy'] > best_accuracy:\n",
        "        best_accuracy = logs['val_accuracy']\n",
        "        torch.save({\n",
        "            'hv_gate_state_dict': model.hv_gate.state_dict(),\n",
        "            'ht_gate_state_dict': model.ht_gate.state_dict(),\n",
        "            'z_gate_state_dict': model.z_gate.state_dict(),\n",
        "            }, 'best_gmu.pth')\n"
      ],
      "execution_count": 15,
      "outputs": []
    },
    {
      "cell_type": "code",
      "metadata": {
        "colab": {
          "base_uri": "https://localhost:8080/",
          "height": 1000
        },
        "id": "ofd12nHpWWo4",
        "outputId": "04779841-e94b-49fd-f929-deab2b922b49"
      },
      "source": [
        "from torch import optim \n",
        "\n",
        "learning_rate = 0.003\n",
        "\n",
        "optimizer = optim.Adam(list(gmu.ht_gate.parameters()) + list(gmu.z_gate.parameters()) + list(gmu.hv_gate.parameters()), lr=learning_rate)\n",
        "\n",
        "criterion = nn.BCEWithLogitsLoss(reduction = 'none')\n",
        "# scheduler = get_linear_schedule_with_warmup(optimizer, num_warmup_steps = 0, num_training_steps = total_steps) \n",
        "\n",
        "\n",
        "# train_gmu(gmu, criterion, optimizer, scheduler, num_epochs)\n",
        "train_gmu(gmu, optimizer, criterion, 4)"
      ],
      "execution_count": null,
      "outputs": [
        {
          "output_type": "display_data",
          "data": {
            "image/png": "[encoded data removed]",
            "text/plain": [
              "<Figure size 864x864 with 4 Axes>"
            ]
          },
          "metadata": {
            "tags": [],
            "needs_background": "light"
          }
        },
        {
          "output_type": "stream",
          "text": [
            "accuracy\n",
            "\ttraining         \t (min:    0.797, max:    0.880, cur:    0.848)\n",
            "\tvalidation       \t (min:    0.840, max:    0.858, cur:    0.852)\n",
            "f_score\n",
            "\ttraining         \t (min:    0.290, max:    0.513, cur:    0.378)\n",
            "\tvalidation       \t (min:    0.352, max:    0.419, cur:    0.387)\n",
            "Loss\n",
            "\ttraining         \t (min:   10.111, max:   10.613, cur:   10.536)\n",
            "\tvalidation       \t (min:   10.459, max:   10.581, cur:   10.526)\n"
          ],
          "name": "stdout"
        }
      ]
    },
    {
      "cell_type": "code",
      "metadata": {
        "id": "6tW6DF5RBBOJ"
      },
      "source": [
        "# Load Train set"
      ],
      "execution_count": null,
      "outputs": []
    },
    {
      "cell_type": "code",
      "metadata": {
        "id": "J9jqcf8IBF1Z",
        "colab": {
          "base_uri": "https://localhost:8080/"
        },
        "outputId": "957e0242-7e80-49a8-cfad-ad31723b67ac"
      },
      "source": [
        "checkpoint = torch.load('best_gmu.pth')\n",
        "gmu.hv_gate.load_state_dict(checkpoint['hv_gate_state_dict'])\n",
        "gmu.ht_gate.load_state_dict(checkpoint['ht_gate_state_dict'])\n",
        "gmu.z_gate.load_state_dict(checkpoint['z_gate_state_dict'])\n"
      ],
      "execution_count": 15,
      "outputs": [
        {
          "output_type": "execute_result",
          "data": {
            "text/plain": [
              "<All keys matched successfully>"
            ]
          },
          "metadata": {
            "tags": []
          },
          "execution_count": 15
        }
      ]
    },
    {
      "cell_type": "code",
      "metadata": {
        "id": "3-YD93vfBF67",
        "colab": {
          "base_uri": "https://localhost:8080/"
        },
        "outputId": "4f034bb8-8b4f-454c-bda1-5503c71d4617"
      },
      "source": [
        "testset = MovieDataset(split = 'test', image_transform = image_transform)\n",
        "\n",
        "test_loader = torch.utils.data.DataLoader(testset, \n",
        "                                           batch_size = batch_size, \n",
        "                                           shuffle = False, \n",
        "                                           pin_memory = False,)"
      ],
      "execution_count": 17,
      "outputs": [
        {
          "output_type": "stream",
          "text": [
            "Loading data/mmimdb-256/dataset-resized-256max/test/metadata ..."
          ],
          "name": "stdout"
        },
        {
          "output_type": "stream",
          "text": [
            "IOPub data rate exceeded.\n",
            "The notebook server will temporarily stop sending output\n",
            "to the client in order to avoid crashing it.\n",
            "To change this limit, set the config variable\n",
            "`--NotebookApp.iopub_data_rate_limit`.\n",
            "\n",
            "Current values:\n",
            "NotebookApp.iopub_data_rate_limit=1000000.0 (bytes/sec)\n",
            "NotebookApp.rate_limit_window=3.0 (secs)\n",
            "\n"
          ],
          "name": "stderr"
        },
        {
          "output_type": "stream",
          "text": [
            " finished\n"
          ],
          "name": "stdout"
        }
      ]
    },
    {
      "cell_type": "code",
      "metadata": {
        "id": "5_9emenGBfL_"
      },
      "source": [
        "from transformers import AdamW  # optimizer that comes with this library.\n",
        "from transformers import get_linear_schedule_with_warmup\n",
        "from livelossplot import PlotLosses\n",
        "import torch.nn as nn\n",
        "\n",
        "num_epochs = 4\n",
        "\n",
        "total_steps = len(test_loader) * num_epochs\n",
        "cost_function = nn.BCEWithLogitsLoss(reduction = 'none')\n",
        "best_accuracy = 0\n",
        "\n",
        "# Training Loop. \n",
        "def train_gmu(model, criterion, num_epochs=1):\n",
        "  best_accuracy = 0\n",
        "  liveloss = PlotLosses(); current_step = 0\n",
        "  for epoch in range(0, num_epochs):\n",
        "      cumulative_accuracy = 0\n",
        "      cumulative_fscore = 0\n",
        "      cumulative_loss = 0\n",
        "      num_samples = 0\n",
        "      logs = {}\n",
        "      # model.train()\n",
        "      # training loop\n",
        "      for (batch_id, (imgs, texts, text_masks, labels)) in enumerate(test_loader):\n",
        "          # Move to GPU.\n",
        "          if(torch.cuda.is_available()):\n",
        "            imgs = imgs.cuda()\n",
        "            texts = texts.cuda()\n",
        "            text_masks = text_masks.cuda()\n",
        "            labels = labels.cuda()\n",
        "\n",
        "          # Compute predictions.\n",
        "          predicted = model.forward('eval', imgs, texts, text_masks, labels) #no operation is performed with labels\n",
        "          loss = criterion(predicted, labels)\n",
        "          cumulative_accuracy += top5_accuracy(predicted, labels).sum().item()\n",
        "          cumulative_loss += loss.data.sum().item()\n",
        "          f_s = f_score(predicted, labels)\n",
        "          cumulative_fscore +=f_s.sum().item()\n",
        "          num_samples += texts.size(0)\n",
        "          # print(\"Multimodal Accuracy: \", cumulative_accuracy/num_samples)\n",
        "          # print(\"Multimodal Fscore: \", cumulative_fscore/num_samples)\n",
        "\n",
        "          if batch_id % 100 == 0:\n",
        "            print(epoch, batch_id, cumulative_accuracy / num_samples)\n",
        "            logs['loss'] = cumulative_loss / num_samples\n",
        "            logs['accuracy'] = cumulative_accuracy / num_samples\n",
        "            logs['f_score'] = cumulative_fscore/num_samples\n",
        "            liveloss.update(logs)\n",
        "            liveloss.send()\n",
        "            current_step += 1\n"
      ],
      "execution_count": 24,
      "outputs": []
    },
    {
      "cell_type": "code",
      "metadata": {
        "id": "a3KIySvwBkn2",
        "colab": {
          "base_uri": "https://localhost:8080/",
          "height": 975
        },
        "outputId": "7325f144-50af-4ed2-e7d9-d3a8775514a7"
      },
      "source": [
        "\n",
        "criterion = nn.BCEWithLogitsLoss(reduction = 'none')\n",
        "train_gmu(gmu, criterion, 1)"
      ],
      "execution_count": 25,
      "outputs": [
        {
          "output_type": "display_data",
          "data": {
            "image/png": "[encoded data removed]",
            "text/plain": [
              "<Figure size 864x864 with 4 Axes>"
            ]
          },
          "metadata": {
            "tags": [],
            "needs_background": "light"
          }
        },
        {
          "output_type": "stream",
          "text": [
            "accuracy\n",
            "\taccuracy         \t (min:    0.800, max:    0.846, cur:    0.846)\n",
            "f_score\n",
            "\tf_score          \t (min:    0.374, max:    0.457, cur:    0.383)\n",
            "Loss\n",
            "\tloss             \t (min:   10.098, max:   10.635, cur:   10.564)\n"
          ],
          "name": "stdout"
        }
      ]
    }
  ]
}