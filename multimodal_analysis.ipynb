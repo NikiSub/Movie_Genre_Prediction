{
  "nbformat": 4,
  "nbformat_minor": 0,
  "metadata": {
    "kernelspec": {
      "display_name": "PyCharm (MultiModal-Movie-Genre-Analysis)",
      "language": "python",
      "name": "pycharm-90cbde0b"
    },
    "language_info": {
      "codemirror_mode": {
        "name": "ipython",
        "version": 3
      },
      "file_extension": ".py",
      "mimetype": "text/x-python",
      "name": "python",
      "nbconvert_exporter": "python",
      "pygments_lexer": "ipython3",
      "version": "3.7.7"
    },
    "colab": {
      "name": "multimodal_analysis.ipynb",
      "provenance": [],
      "collapsed_sections": []
    },
    "accelerator": "GPU"
  },
  "cells": [
    {
      "cell_type": "markdown",
      "metadata": {
        "id": "PmzejPg62ikF"
      },
      "source": [
        "### Training Gated MultiModal Unit"
      ]
    },
    {
      "cell_type": "markdown",
      "metadata": {
        "id": "pO3BWcty2ikF"
      },
      "source": [
        "###### load pretrained BERT model"
      ]
    },
    {
      "cell_type": "code",
      "metadata": {
        "colab": {
          "base_uri": "https://localhost:8080/"
        },
        "id": "7kzYtj9DLKlK",
        "outputId": "89a23a81-4994-407e-ec8c-aecf470468db"
      },
      "source": [
        "!wget -nc http://www.cs.virginia.edu/~vicente/vislang/mmimdb-256.tar.gz\n",
        "!tar xf mmimdb-256.tar.gz -C ./data/mmimdb-256/"
      ],
      "execution_count": 38,
      "outputs": [
        {
          "output_type": "stream",
          "text": [
            "File ‘mmimdb-256.tar.gz’ already there; not retrieving.\n",
            "\n"
          ],
          "name": "stdout"
        }
      ]
    },
    {
      "cell_type": "code",
      "metadata": {
        "id": "UG8ZLHsZ2ikF"
      },
      "source": [
        "!pip install livelossplot --quiet\n",
        "!pip -q install transformers"
      ],
      "execution_count": 1,
      "outputs": []
    },
    {
      "cell_type": "code",
      "metadata": {
        "id": "VkbOF-ZV2ikF"
      },
      "source": [
        "import torch, os, json\n",
        "import matplotlib.pyplot as plt\n",
        "from transformers import BertTokenizer\n",
        "from transformers import BertForSequenceClassification\n",
        "from PIL import Image\n",
        "import torch.nn as nn\n",
        "import torch.nn.functional as F"
      ],
      "execution_count": 2,
      "outputs": []
    },
    {
      "cell_type": "markdown",
      "metadata": {
        "id": "ZE7wkB5CxUfW"
      },
      "source": [
        "### Load Pretrained Bert Model"
      ]
    },
    {
      "cell_type": "code",
      "metadata": {
        "colab": {
          "base_uri": "https://localhost:8080/"
        },
        "id": "qRweBu7M2ikF",
        "outputId": "3cf902e9-48ab-46f3-8be6-b843eb2637fd"
      },
      "source": [
        "text_model = BertForSequenceClassification.from_pretrained('bert-base-uncased', \n",
        "    num_labels = 27,  output_attentions = False, \n",
        "    output_hidden_states = False)"
      ],
      "execution_count": 3,
      "outputs": [
        {
          "output_type": "stream",
          "text": [
            "Some weights of the model checkpoint at bert-base-uncased were not used when initializing BertForSequenceClassification: ['cls.predictions.bias', 'cls.predictions.transform.dense.weight', 'cls.predictions.transform.dense.bias', 'cls.predictions.decoder.weight', 'cls.seq_relationship.weight', 'cls.seq_relationship.bias', 'cls.predictions.transform.LayerNorm.weight', 'cls.predictions.transform.LayerNorm.bias']\n",
            "- This IS expected if you are initializing BertForSequenceClassification from the checkpoint of a model trained on another task or with another architecture (e.g. initializing a BertForSequenceClassification model from a BertForPreTraining model).\n",
            "- This IS NOT expected if you are initializing BertForSequenceClassification from the checkpoint of a model that you expect to be exactly identical (initializing a BertForSequenceClassification model from a BertForSequenceClassification model).\n",
            "Some weights of BertForSequenceClassification were not initialized from the model checkpoint at bert-base-uncased and are newly initialized: ['classifier.weight', 'classifier.bias']\n",
            "You should probably TRAIN this model on a down-stream task to be able to use it for predictions and inference.\n"
          ],
          "name": "stderr"
        }
      ]
    },
    {
      "cell_type": "code",
      "metadata": {
        "id": "goWyCZ5m2ors"
      },
      "source": [
        "text_model.cuda()"
      ],
      "execution_count": null,
      "outputs": []
    },
    {
      "cell_type": "code",
      "metadata": {
        "colab": {
          "base_uri": "https://localhost:8080/"
        },
        "id": "llvYp8tg2ikG",
        "outputId": "9b8bcddf-ee9b-4636-9afb-406452609991"
      },
      "source": [
        "text_model.load_state_dict(torch.load('best_model_bert.pth'))"
      ],
      "execution_count": 5,
      "outputs": [
        {
          "output_type": "execute_result",
          "data": {
            "text/plain": [
              "<All keys matched successfully>"
            ]
          },
          "metadata": {
            "tags": []
          },
          "execution_count": 5
        }
      ]
    },
    {
      "cell_type": "markdown",
      "metadata": {
        "id": "HGowlcQtxdGs"
      },
      "source": [
        "### Load Pretrained Resnet "
      ]
    },
    {
      "cell_type": "code",
      "metadata": {
        "id": "JpU5BjA1x_va"
      },
      "source": [
        "\n",
        "from torchvision import models\n",
        "\n",
        "image_model = models.resnet18(pretrained=True) \n",
        "image_model.cuda()\n",
        "num_ftrs = image_model.fc.in_features\n",
        "image_model.fc = nn.Linear(num_ftrs, 27)"
      ],
      "execution_count": 6,
      "outputs": []
    },
    {
      "cell_type": "code",
      "metadata": {
        "colab": {
          "base_uri": "https://localhost:8080/"
        },
        "id": "EfjdqgBgIwgg",
        "outputId": "f45258d5-55f1-4ccd-a5af-30a9dcf39e85"
      },
      "source": [
        "image_model.load_state_dict(torch.load('best_img_model.pth'))"
      ],
      "execution_count": 7,
      "outputs": [
        {
          "output_type": "execute_result",
          "data": {
            "text/plain": [
              "<All keys matched successfully>"
            ]
          },
          "metadata": {
            "tags": []
          },
          "execution_count": 7
        }
      ]
    },
    {
      "cell_type": "markdown",
      "metadata": {
        "id": "oBsfg7dAd9A5"
      },
      "source": [
        "Equations governing GMU are as follows: <br>\n",
        "$h_{v} = tanh(W_{v} \\cdot x_{})$ <br>\n",
        "$h_{t} = tanh(W_{t} \\cdot x_{t})$ <br>\n",
        "$z = \\sigma(W_{z} \\cdot[x_{v} \\cdot x_{t}])$ <br>\n",
        "$h = z \\ast h_{v} + (1 - z) \\ast h_{t}$ <br>\n",
        "$\\Theta = \\{W_{v}, W_{t}, W_{z}\\}$ <br>\n"
      ]
    },
    {
      "cell_type": "code",
      "metadata": {
        "id": "d58fFE-6GrmD"
      },
      "source": [
        "\n",
        "\n",
        "# used to find h_v and h_t\n",
        "class LinearClassifier(nn.Module):  \n",
        "  def __init__(self, encoding_size):\n",
        "    super(LinearClassifier, self).__init__()\n",
        "    self.linear = nn.Linear(encoding_size, encoding_size)\n",
        "\n",
        "  def forward(self, x):\n",
        "    x = self.linear(x)\n",
        "    x = torch.tanh(x)\n",
        "    return x\n"
      ],
      "execution_count": 8,
      "outputs": []
    },
    {
      "cell_type": "code",
      "metadata": {
        "id": "ZnodpjBXdkLm"
      },
      "source": [
        "class LinearCombine(nn.Module):\n",
        "  def __init__(self, encoding_size):\n",
        "    super().__init__()\n",
        "    self.linear = nn.Linear(encoding_size, 27) # 27 is the number of genres\n",
        "\n",
        "    self.sigmoid = nn.Sigmoid()\n",
        "\n",
        "  def forward(self, x, y):\n",
        "    x = self.linear(torch.cat((x, y), dim=1))\n",
        "    x = self.sigmoid(x)\n",
        "    return x\n"
      ],
      "execution_count": 9,
      "outputs": []
    },
    {
      "cell_type": "code",
      "metadata": {
        "id": "-TPGQPOMg-q7"
      },
      "source": [
        "class Gated_MultiModal_Unit():\n",
        "\n",
        "  def __init__(self, img_model, text_model):\n",
        "    super().__init__()\n",
        "    self.bert_model = text_model\n",
        "    self.resnet_model = img_model\n",
        "\n",
        "  def forward(self, imgs, texts, text_masks, labels):\n",
        "    self.resnet_model.eval()\n",
        "    self.bert_model.eval()\n",
        "    self.resnet_model.cuda()\n",
        "    self.bert_model.cuda()\n",
        "    img_pred = self.resnet_model(imgs)\n",
        "    text_pred = self.bert_model(texts, text_masks).logits\n",
        "\n",
        "    h_gate = LinearClassifier(27)\n",
        "    z_gate = LinearCombine(54)\n",
        "\n",
        "    h_gate.cuda()\n",
        "    z_gate.cuda()\n",
        "    \n",
        "\n",
        "    h_v = h_gate(img_pred)\n",
        "    h_t = h_gate(text_pred)\n",
        "\n",
        "    z = z_gate(img_pred, text_pred)\n",
        "\n",
        "    h = torch.mul(z, h_v) + torch.mul((1-z), h_t)\n",
        "\n",
        "    predictions = h\n",
        "    return predictions\n",
        "\n",
        "\n"
      ],
      "execution_count": 34,
      "outputs": []
    },
    {
      "cell_type": "code",
      "metadata": {
        "colab": {
          "base_uri": "https://localhost:8080/"
        },
        "id": "t1pAD8y9LXCb",
        "outputId": "826f3e58-c8ac-4668-d9ff-7e8430a09756"
      },
      "source": [
        "class MovieDataset(torch.utils.data.Dataset):\n",
        "    def __init__(self, folder = 'data/mmimdb-256/dataset-resized-256max', split = 'dev',\n",
        "                 image_transform = None):\n",
        "        self.json_dir = os.path.join(folder, split, 'metadata')\n",
        "        self.image_dir = os.path.join(folder, split, 'images')\n",
        "        self.image_transform = image_transform\n",
        "        self.tokenizer = BertTokenizer.from_pretrained('bert-base-uncased')\n",
        "\n",
        "        # Category definitions of movies.\n",
        "        self.categories = ['Action', 'Adult', 'Adventure', 'Animation', 'Biography', \n",
        "                           'Comedy', 'Crime', 'Documentary', 'Drama', \n",
        "                           'Family', 'Fantasy', 'Film-Noir', 'History', \n",
        "                           'Horror', 'Music', 'Musical', 'Mystery', 'News', \n",
        "                           'Reality-TV', 'Romance', 'Sci-Fi', 'Short', \n",
        "                           'Sport', 'Talk-Show', 'Thriller', 'War', 'Western']\n",
        "        self.categories2ids = {category: id for (id, category) \n",
        "                               in enumerate(self.categories)}\n",
        "\n",
        "        # Load JSON files.\n",
        "        print('Loading %s ...' % self.json_dir, end = '')\n",
        "        fdir = os.listdir(self.json_dir)\n",
        "        self.metadata = [(fname[:-5], json.load(open(os.path.join(self.json_dir, fname)))) \n",
        "                     for fname in sorted(fdir) if not fname.startswith('.')]\n",
        "        print(' finished')\n",
        "        print(self.metadata)\n",
        "        # Pre-tokenizing all sentences.\n",
        "        print('Tokenizing...', end = '')\n",
        "        self.tokenized_plots = list()\n",
        "        for i in range(0, len(self.metadata)):\n",
        "            text = self.metadata[i][1]['plot'][0]\n",
        "            encoded_text = self.tokenizer.encode_plus(\n",
        "                text, add_special_tokens = True, truncation = True, \n",
        "                max_length = 256, padding = 'max_length',\n",
        "                return_attention_mask = True,\n",
        "                return_tensors = 'pt')\n",
        "            self.tokenized_plots.append(encoded_text)\n",
        "        print(' finished')\n",
        "            \n",
        "    def __getitem__(self, index: int):\n",
        "        # Load images on the fly.\n",
        "        filename, movie_data = self.metadata[index]\n",
        "        img_path = os.path.join(self.image_dir, filename + '.jpeg')\n",
        "        image = Image.open(img_path).convert('RGB')\n",
        "        text = self.tokenized_plots[index]['input_ids'][0]\n",
        "        text_mask = self.tokenized_plots[index]['attention_mask'][0]\n",
        "        genres = movie_data['genres']\n",
        "\n",
        "        if self.image_transform: image = self.image_transform(image)\n",
        "\n",
        "        # Encode labels in a binary vector.\n",
        "        label_vector = torch.zeros((len(self.categories)))\n",
        "        label_ids = [self.categories2ids[cat] for cat in genres]\n",
        "        label_vector[label_ids] = 1\n",
        "\n",
        "        return image, text, text_mask, label_vector\n",
        "\n",
        "    def load_image_only(self, index: int):\n",
        "        filename, movie_data = self.metadata[index]\n",
        "        img_path = os.path.join(self.image_dir, filename + '.jpeg')\n",
        "        image = Image.open(img_path).convert('RGB')\n",
        "        return image\n",
        "\n",
        "    def get_metadata(self, index: int):\n",
        "        _, movie_data = self.metadata[index]\n",
        "        return movie_data\n",
        "\n",
        "    def __len__(self):\n",
        "        return len(self.metadata)\n",
        "\n",
        "val_data = MovieDataset(split = 'dev')\n",
        "print('Data size: %d samples' % len(val_data))"
      ],
      "execution_count": 11,
      "outputs": [
        {
          "output_type": "stream",
          "text": [
            "Loading data/mmimdb-256/dataset-resized-256max/dev/metadata ..."
          ],
          "name": "stdout"
        },
        {
          "output_type": "stream",
          "text": [
            "IOPub data rate exceeded.\n",
            "The notebook server will temporarily stop sending output\n",
            "to the client in order to avoid crashing it.\n",
            "To change this limit, set the config variable\n",
            "`--NotebookApp.iopub_data_rate_limit`.\n",
            "\n",
            "Current values:\n",
            "NotebookApp.iopub_data_rate_limit=1000000.0 (bytes/sec)\n",
            "NotebookApp.rate_limit_window=3.0 (secs)\n",
            "\n"
          ],
          "name": "stderr"
        },
        {
          "output_type": "stream",
          "text": [
            " finished\n",
            "Data size: 2608 samples\n"
          ],
          "name": "stdout"
        }
      ]
    },
    {
      "cell_type": "code",
      "metadata": {
        "colab": {
          "base_uri": "https://localhost:8080/"
        },
        "id": "IzfE0W7sK4h0",
        "outputId": "f95e6d42-ff28-4433-c3b1-a3dd9dcc428c"
      },
      "source": [
        "# Let's setup the data loaders and preprocessing.\n",
        "import torchvision.transforms as transforms\n",
        "\n",
        "# Batch size is a liming factor on constrained resources.\n",
        "# only GPUs with a large memory can hold large batches.\n",
        "batch_size = 10\n",
        "\n",
        "image_transform = transforms.Compose([\n",
        "        transforms.Resize(256),\n",
        "        transforms.CenterCrop((224, 224)),\n",
        "        transforms.ToTensor(),\n",
        "        transforms.Normalize(mean=[0.485, 0.456, 0.406],\n",
        "                             std=[0.229, 0.224, 0.225])])\n",
        "\n",
        "trainset = MovieDataset(split = 'train', image_transform = image_transform)\n",
        "valset = MovieDataset(split = 'dev', image_transform = image_transform)\n",
        "\n",
        "train_loader = torch.utils.data.DataLoader(trainset, \n",
        "                                           batch_size = batch_size, \n",
        "                                           shuffle = True, \n",
        "                                           pin_memory = True,\n",
        "                                           num_workers = 4)\n",
        "val_loader = torch.utils.data.DataLoader(valset, \n",
        "                                         batch_size = batch_size, \n",
        "                                         shuffle = False)"
      ],
      "execution_count": 12,
      "outputs": [
        {
          "output_type": "stream",
          "text": [
            "Loading data/mmimdb-256/dataset-resized-256max/train/metadata ..."
          ],
          "name": "stdout"
        },
        {
          "output_type": "stream",
          "text": [
            "IOPub data rate exceeded.\n",
            "The notebook server will temporarily stop sending output\n",
            "to the client in order to avoid crashing it.\n",
            "To change this limit, set the config variable\n",
            "`--NotebookApp.iopub_data_rate_limit`.\n",
            "\n",
            "Current values:\n",
            "NotebookApp.iopub_data_rate_limit=1000000.0 (bytes/sec)\n",
            "NotebookApp.rate_limit_window=3.0 (secs)\n",
            "\n"
          ],
          "name": "stderr"
        },
        {
          "output_type": "stream",
          "text": [
            " finished\n",
            "Loading data/mmimdb-256/dataset-resized-256max/dev/metadata ..."
          ],
          "name": "stdout"
        },
        {
          "output_type": "stream",
          "text": [
            "IOPub data rate exceeded.\n",
            "The notebook server will temporarily stop sending output\n",
            "to the client in order to avoid crashing it.\n",
            "To change this limit, set the config variable\n",
            "`--NotebookApp.iopub_data_rate_limit`.\n",
            "\n",
            "Current values:\n",
            "NotebookApp.iopub_data_rate_limit=1000000.0 (bytes/sec)\n",
            "NotebookApp.rate_limit_window=3.0 (secs)\n",
            "\n"
          ],
          "name": "stderr"
        },
        {
          "output_type": "stream",
          "text": [
            " finished\n"
          ],
          "name": "stdout"
        }
      ]
    },
    {
      "cell_type": "code",
      "metadata": {
        "id": "fL0v8hMWMCgE"
      },
      "source": [
        "gmu = Gated_MultiModal_Unit(image_model, text_model)"
      ],
      "execution_count": 35,
      "outputs": []
    },
    {
      "cell_type": "code",
      "metadata": {
        "id": "cvRJD5lBK5zJ"
      },
      "source": [
        "from transformers import AdamW  # optimizer that comes with this library.\n",
        "from transformers import get_linear_schedule_with_warmup\n",
        "from livelossplot import PlotLosses\n",
        "import torch.nn as nn\n",
        "\n",
        "num_epochs = 4\n",
        "\n",
        "# Following recommendations from the BERT paper and also this\n",
        "# blog post https://mccormickml.com/2019/07/22/BERT-fine-tuning/\n",
        "# optimizer = AdamW(model.parameters(), lr = 2e-5, eps = 1e-8)\n",
        "total_steps = len(train_loader) * num_epochs\n",
        "# scheduler = get_linear_schedule_with_warmup(\n",
        "#     optimizer, num_warmup_steps = 0, num_training_steps = total_steps)\n",
        "\n",
        "# Binary Cross-Entroy Loss (BCE Loss).\n",
        "# Please see documentation here:\n",
        "# https://pytorch.org/docs/stable/generated/torch.nn.BCEWithLogitsLoss.html\n",
        "cost_function = nn.BCEWithLogitsLoss(reduction = 'none')\n",
        "\n",
        "\n",
        "# Training Loop. \n",
        "best_accuracy = 0\n",
        "liveloss = PlotLosses(); current_step = 0\n",
        "for epoch in range(0, num_epochs):\n",
        "    cumulative_accuracy = 0\n",
        "    cumulative_loss = 0\n",
        "    num_samples = 0\n",
        "    logs = {}\n",
        "    # model.train()\n",
        "    for (batch_id, (imgs, texts, text_masks, labels)) in enumerate(train_loader):\n",
        "        # Move to GPU.\n",
        "        imgs = imgs.cuda()\n",
        "        texts = texts.cuda()\n",
        "        text_masks = text_masks.cuda()\n",
        "        labels = labels.cuda()\n",
        "\n",
        "        # Compute predictions.\n",
        "        print(imgs.shape)\n",
        "        predicted = gmu.forward(imgs, texts, text_masks, labels)\n",
        "        print(predicted.shape)"
      ],
      "execution_count": null,
      "outputs": []
    },
    {
      "cell_type": "code",
      "metadata": {
        "id": "YsC_KllJNeBQ"
      },
      "source": [
        ""
      ],
      "execution_count": null,
      "outputs": []
    }
  ]
}